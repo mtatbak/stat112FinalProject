{
 "cells": [
  {
   "cell_type": "markdown",
   "id": "cf7e4d15-f670-41db-a077-60818b08f522",
   "metadata": {},
   "source": [
    "https://www.geeksforgeeks.org/how-to-automate-data-cleaning-in-python/\n",
    "https://medium.com/@chaimgluck1/working-with-pandas-fixing-messy-column-names-42a54a6659cd"
   ]
  },
  {
   "cell_type": "markdown",
   "id": "cf349df6-f2c1-4852-8e36-2af8ecff9714",
   "metadata": {},
   "source": []
  },
  {
   "cell_type": "code",
   "execution_count": 115,
   "id": "05bf7134-c0cb-4148-aadb-f0785988c7c3",
   "metadata": {},
   "outputs": [],
   "source": [
    "import pandas as pd \n",
    "import seaborn as sns\n",
    "import matplotlib.pyplot as plt\n",
    "import numpy as np\n",
    "from sklearn.impute import KNNImputer\n",
    "from sklearn.preprocessing import OneHotEncoder, StandardScaler, MinMaxScaler \n",
    "from sklearn.model_selection import GridSearchCV, train_test_split, KFold, cross_val_score\n",
    "from sklearn.linear_model import LinearRegression\n",
    "from sklearn.metrics import r2_score, mean_squared_error, accuracy_score, mean_absolute_error, mean_squared_error\n",
    "from sklearn.ensemble import GradientBoostingRegressor\n",
    "from sklearn.neural_network import MLPRegressor\n",
    "from sklearn.svm import SVR\n",
    "from sklearn.neighbors import KNeighborsRegressor\n",
    "from sklearn.cross_decomposition import PLSRegression\n",
    "from sklearn.tree import DecisionTreeRegressor\n",
    "import missingno as msno\n",
    "from sklearn.utils import shuffle \n",
    "from category_encoders import TargetEncoder, OneHotEncoder\n",
    "import warnings\n",
    "warnings.filterwarnings(\"ignore\")\n",
    "sns.set(rc = {'figure.figsize': (20, 20)})\n",
    "%matplotlib inline "
   ]
  },
  {
   "cell_type": "code",
   "execution_count": 116,
   "id": "84598096-3ecd-44fa-af71-4bef9ffadada",
   "metadata": {},
   "outputs": [],
   "source": [
    "#reading"
   ]
  },
  {
   "cell_type": "code",
   "execution_count": 117,
   "id": "3679249b-2d0d-48c8-9685-537e0034612b",
   "metadata": {},
   "outputs": [],
   "source": [
    "df = pd.read_csv('Trendyol_Sales_Data_Dirty.csv')"
   ]
  },
  {
   "cell_type": "code",
   "execution_count": 118,
   "id": "8b1fd5bb-cd5e-468e-97bd-b48e85e0afe7",
   "metadata": {},
   "outputs": [
    {
     "data": {
      "text/plain": [
       "(1100, 14)"
      ]
     },
     "execution_count": 118,
     "metadata": {},
     "output_type": "execute_result"
    }
   ],
   "source": [
    "df.shape"
   ]
  },
  {
   "cell_type": "code",
   "execution_count": 119,
   "id": "5a604da8-420a-4a7d-b65f-0b7931406b20",
   "metadata": {},
   "outputs": [
    {
     "data": {
      "text/html": [
       "<div>\n",
       "<style scoped>\n",
       "    .dataframe tbody tr th:only-of-type {\n",
       "        vertical-align: middle;\n",
       "    }\n",
       "\n",
       "    .dataframe tbody tr th {\n",
       "        vertical-align: top;\n",
       "    }\n",
       "\n",
       "    .dataframe thead th {\n",
       "        text-align: right;\n",
       "    }\n",
       "</style>\n",
       "<table border=\"1\" class=\"dataframe\">\n",
       "  <thead>\n",
       "    <tr style=\"text-align: right;\">\n",
       "      <th></th>\n",
       "      <th>YEAR</th>\n",
       "      <th>month</th>\n",
       "      <th>CITY</th>\n",
       "      <th>CatEgory</th>\n",
       "      <th>PayMent_methoD</th>\n",
       "      <th>DEVICE_type</th>\n",
       "      <th>PROMOTion_used</th>\n",
       "      <th>CustSegment</th>\n",
       "      <th>ORDer_Value</th>\n",
       "      <th>Items sold</th>\n",
       "      <th>shipping_cost</th>\n",
       "      <th>Delivery_time</th>\n",
       "      <th>Product_rating</th>\n",
       "      <th>DiscOUNt</th>\n",
       "    </tr>\n",
       "  </thead>\n",
       "  <tbody>\n",
       "    <tr>\n",
       "      <th>0</th>\n",
       "      <td>2020.0</td>\n",
       "      <td>4.0</td>\n",
       "      <td>@Bursa</td>\n",
       "      <td>NaN</td>\n",
       "      <td>Cr3dit C@rd</td>\n",
       "      <td>D3sktop</td>\n",
       "      <td>@Yes</td>\n",
       "      <td>@New</td>\n",
       "      <td>477.75</td>\n",
       "      <td>10.0</td>\n",
       "      <td>32.34 TRY</td>\n",
       "      <td>6.0</td>\n",
       "      <td>4.7</td>\n",
       "      <td>113.97</td>\n",
       "    </tr>\n",
       "    <tr>\n",
       "      <th>1</th>\n",
       "      <td>2023.0</td>\n",
       "      <td>11.0</td>\n",
       "      <td>@NA</td>\n",
       "      <td>Toys</td>\n",
       "      <td>Debit Card</td>\n",
       "      <td>Desktop</td>\n",
       "      <td>No</td>\n",
       "      <td>@Returning</td>\n",
       "      <td>369.63</td>\n",
       "      <td>4.0</td>\n",
       "      <td>34.56 TRY</td>\n",
       "      <td>2.0</td>\n",
       "      <td>4.6</td>\n",
       "      <td>103.36</td>\n",
       "    </tr>\n",
       "    <tr>\n",
       "      <th>2</th>\n",
       "      <td>2011.0</td>\n",
       "      <td>5.0</td>\n",
       "      <td>Samsun</td>\n",
       "      <td>@NA</td>\n",
       "      <td>E-W@ll3t</td>\n",
       "      <td>Desktop</td>\n",
       "      <td>No</td>\n",
       "      <td>@Returning</td>\n",
       "      <td>264.94</td>\n",
       "      <td>3.0</td>\n",
       "      <td>24.97 TRY</td>\n",
       "      <td>3.0</td>\n",
       "      <td>3.4</td>\n",
       "      <td>22.84</td>\n",
       "    </tr>\n",
       "    <tr>\n",
       "      <th>3</th>\n",
       "      <td>2017.0</td>\n",
       "      <td>2.0</td>\n",
       "      <td>diyarbakir</td>\n",
       "      <td>clothing</td>\n",
       "      <td>@E-Wallet</td>\n",
       "      <td>Mobil3</td>\n",
       "      <td>YES</td>\n",
       "      <td>@NA</td>\n",
       "      <td>353.31</td>\n",
       "      <td>8.0</td>\n",
       "      <td>36.25 TRY</td>\n",
       "      <td>4.0</td>\n",
       "      <td>3.6</td>\n",
       "      <td>59.85</td>\n",
       "    </tr>\n",
       "    <tr>\n",
       "      <th>4</th>\n",
       "      <td>2013.0</td>\n",
       "      <td>6.0</td>\n",
       "      <td>BURSA</td>\n",
       "      <td>NaN</td>\n",
       "      <td>CREDIT CARD</td>\n",
       "      <td>Desktop</td>\n",
       "      <td>YES</td>\n",
       "      <td>@Returning</td>\n",
       "      <td>NaN</td>\n",
       "      <td>6.0</td>\n",
       "      <td>43.16 TRY</td>\n",
       "      <td>4.0</td>\n",
       "      <td>4.2</td>\n",
       "      <td>7.82</td>\n",
       "    </tr>\n",
       "  </tbody>\n",
       "</table>\n",
       "</div>"
      ],
      "text/plain": [
       "     YEAR  month         CITY  CatEgory PayMent_methoD DEVICE_type  \\\n",
       "0  2020.0     4.0      @Bursa       NaN    Cr3dit C@rd     D3sktop   \n",
       "1  2023.0    11.0         @NA     Toys     Debit Card     Desktop    \n",
       "2  2011.0     5.0     Samsun        @NA       E-W@ll3t    Desktop    \n",
       "3  2017.0     2.0  diyarbakir  clothing      @E-Wallet      Mobil3   \n",
       "4  2013.0     6.0       BURSA       NaN    CREDIT CARD    Desktop    \n",
       "\n",
       "  PROMOTion_used CustSegment  ORDer_Value  Items sold shipping_cost  \\\n",
       "0           @Yes        @New       477.75        10.0     32.34 TRY   \n",
       "1            No   @Returning       369.63         4.0     34.56 TRY   \n",
       "2             No  @Returning       264.94         3.0     24.97 TRY   \n",
       "3            YES         @NA       353.31         8.0     36.25 TRY   \n",
       "4            YES  @Returning          NaN         6.0     43.16 TRY   \n",
       "\n",
       "   Delivery_time  Product_rating  DiscOUNt  \n",
       "0            6.0             4.7    113.97  \n",
       "1            2.0             4.6    103.36  \n",
       "2            3.0             3.4     22.84  \n",
       "3            4.0             3.6     59.85  \n",
       "4            4.0             4.2      7.82  "
      ]
     },
     "execution_count": 119,
     "metadata": {},
     "output_type": "execute_result"
    }
   ],
   "source": [
    "df.head()"
   ]
  },
  {
   "cell_type": "code",
   "execution_count": 149,
   "id": "a3f9649f-cb93-4589-bd14-cc3fdda8569d",
   "metadata": {},
   "outputs": [
    {
     "data": {
      "text/plain": [
       "<Axes: >"
      ]
     },
     "execution_count": 149,
     "metadata": {},
     "output_type": "execute_result"
    },
    {
     "data": {
      "image/png": "[encoded data removed]",
      "text/plain": [
       "<Figure size 2500x1000 with 2 Axes>"
      ]
     },
     "metadata": {},
     "output_type": "display_data"
    }
   ],
   "source": [
    "msno.matrix(df, color = (0.5, 0.5, 0.5))"
   ]
  },
  {
   "cell_type": "code",
   "execution_count": 121,
   "id": "2481fe96-4912-43be-89b6-8d12fff78d43",
   "metadata": {},
   "outputs": [
    {
     "data": {
      "text/html": [
       "<div>\n",
       "<style scoped>\n",
       "    .dataframe tbody tr th:only-of-type {\n",
       "        vertical-align: middle;\n",
       "    }\n",
       "\n",
       "    .dataframe tbody tr th {\n",
       "        vertical-align: top;\n",
       "    }\n",
       "\n",
       "    .dataframe thead th {\n",
       "        text-align: right;\n",
       "    }\n",
       "</style>\n",
       "<table border=\"1\" class=\"dataframe\">\n",
       "  <thead>\n",
       "    <tr style=\"text-align: right;\">\n",
       "      <th></th>\n",
       "      <th>YEAR</th>\n",
       "      <th>month</th>\n",
       "      <th>CITY</th>\n",
       "      <th>CatEgory</th>\n",
       "      <th>PayMent_methoD</th>\n",
       "      <th>DEVICE_type</th>\n",
       "      <th>PROMOTion_used</th>\n",
       "      <th>CustSegment</th>\n",
       "      <th>ORDer_Value</th>\n",
       "      <th>Items sold</th>\n",
       "      <th>shipping_cost</th>\n",
       "      <th>Delivery_time</th>\n",
       "      <th>Product_rating</th>\n",
       "      <th>DiscOUNt</th>\n",
       "    </tr>\n",
       "  </thead>\n",
       "  <tbody>\n",
       "    <tr>\n",
       "      <th>1095</th>\n",
       "      <td>2019.0</td>\n",
       "      <td>6.0</td>\n",
       "      <td>diyarbakir</td>\n",
       "      <td>@Beauty</td>\n",
       "      <td>DEBIT CARD</td>\n",
       "      <td>Desktop</td>\n",
       "      <td>NA</td>\n",
       "      <td>@Returning</td>\n",
       "      <td>369.58</td>\n",
       "      <td>NaN</td>\n",
       "      <td>18.53 TRY</td>\n",
       "      <td>1.0</td>\n",
       "      <td>4.1</td>\n",
       "      <td>96.98</td>\n",
       "    </tr>\n",
       "    <tr>\n",
       "      <th>1096</th>\n",
       "      <td>2017.0</td>\n",
       "      <td>12.0</td>\n",
       "      <td>Ad@n@</td>\n",
       "      <td>Clothing</td>\n",
       "      <td>E-W@ll3t</td>\n",
       "      <td>Tablet</td>\n",
       "      <td>@Yes</td>\n",
       "      <td>returning</td>\n",
       "      <td>308.40</td>\n",
       "      <td>9.0</td>\n",
       "      <td>26.38 TRY</td>\n",
       "      <td>2.0</td>\n",
       "      <td>4.3</td>\n",
       "      <td>35.76</td>\n",
       "    </tr>\n",
       "    <tr>\n",
       "      <th>1097</th>\n",
       "      <td>2019.0</td>\n",
       "      <td>8.0</td>\n",
       "      <td>konya</td>\n",
       "      <td>@Home</td>\n",
       "      <td>credit card</td>\n",
       "      <td>@Desktop</td>\n",
       "      <td>Y3s</td>\n",
       "      <td>RETURNING</td>\n",
       "      <td>446.99</td>\n",
       "      <td>7.0</td>\n",
       "      <td>58.41 TRY</td>\n",
       "      <td>7.0</td>\n",
       "      <td>3.1</td>\n",
       "      <td>94.61</td>\n",
       "    </tr>\n",
       "    <tr>\n",
       "      <th>1098</th>\n",
       "      <td>2013.0</td>\n",
       "      <td>4.0</td>\n",
       "      <td>ANKARA</td>\n",
       "      <td>Clothing</td>\n",
       "      <td>@Debit Card</td>\n",
       "      <td>DESKTOP</td>\n",
       "      <td>@Yes</td>\n",
       "      <td>@New</td>\n",
       "      <td>454.18</td>\n",
       "      <td>3.0</td>\n",
       "      <td>63.72 TRY</td>\n",
       "      <td>4.0</td>\n",
       "      <td>3.8</td>\n",
       "      <td>51.76</td>\n",
       "    </tr>\n",
       "    <tr>\n",
       "      <th>1099</th>\n",
       "      <td>2016.0</td>\n",
       "      <td>3.0</td>\n",
       "      <td>Kony@</td>\n",
       "      <td>clothing</td>\n",
       "      <td>na</td>\n",
       "      <td>tablet</td>\n",
       "      <td>@No</td>\n",
       "      <td>@New</td>\n",
       "      <td>202.42</td>\n",
       "      <td>NaN</td>\n",
       "      <td>14.81 TRY</td>\n",
       "      <td>6.0</td>\n",
       "      <td>NaN</td>\n",
       "      <td>48.62</td>\n",
       "    </tr>\n",
       "  </tbody>\n",
       "</table>\n",
       "</div>"
      ],
      "text/plain": [
       "        YEAR  month         CITY  CatEgory PayMent_methoD DEVICE_type  \\\n",
       "1095  2019.0     6.0  diyarbakir   @Beauty     DEBIT CARD    Desktop    \n",
       "1096  2017.0    12.0       Ad@n@  Clothing       E-W@ll3t     Tablet    \n",
       "1097  2019.0     8.0       konya     @Home    credit card    @Desktop   \n",
       "1098  2013.0     4.0      ANKARA  Clothing    @Debit Card     DESKTOP   \n",
       "1099  2016.0     3.0       Kony@  clothing             na      tablet   \n",
       "\n",
       "     PROMOTion_used CustSegment  ORDer_Value  Items sold shipping_cost  \\\n",
       "1095            NA   @Returning       369.58         NaN     18.53 TRY   \n",
       "1096           @Yes   returning       308.40         9.0     26.38 TRY   \n",
       "1097            Y3s   RETURNING       446.99         7.0     58.41 TRY   \n",
       "1098           @Yes        @New       454.18         3.0     63.72 TRY   \n",
       "1099            @No        @New       202.42         NaN     14.81 TRY   \n",
       "\n",
       "      Delivery_time  Product_rating  DiscOUNt  \n",
       "1095            1.0             4.1     96.98  \n",
       "1096            2.0             4.3     35.76  \n",
       "1097            7.0             3.1     94.61  \n",
       "1098            4.0             3.8     51.76  \n",
       "1099            6.0             NaN     48.62  "
      ]
     },
     "execution_count": 121,
     "metadata": {},
     "output_type": "execute_result"
    }
   ],
   "source": [
    "df.tail()"
   ]
  },
  {
   "cell_type": "code",
   "execution_count": 122,
   "id": "04a21344-1062-47cf-86a5-c67f09d841f6",
   "metadata": {},
   "outputs": [],
   "source": [
    "#buradan eksik verileri anlayabiliyoruz."
   ]
  },
  {
   "cell_type": "code",
   "execution_count": 123,
   "id": "d6c40fdf-0938-403e-8485-605dd987d7f1",
   "metadata": {
    "scrolled": true
   },
   "outputs": [
    {
     "data": {
      "text/html": [
       "<div>\n",
       "<style scoped>\n",
       "    .dataframe tbody tr th:only-of-type {\n",
       "        vertical-align: middle;\n",
       "    }\n",
       "\n",
       "    .dataframe tbody tr th {\n",
       "        vertical-align: top;\n",
       "    }\n",
       "\n",
       "    .dataframe thead th {\n",
       "        text-align: right;\n",
       "    }\n",
       "</style>\n",
       "<table border=\"1\" class=\"dataframe\">\n",
       "  <thead>\n",
       "    <tr style=\"text-align: right;\">\n",
       "      <th></th>\n",
       "      <th>YEAR</th>\n",
       "      <th>month</th>\n",
       "      <th>ORDer_Value</th>\n",
       "      <th>Items sold</th>\n",
       "      <th>Delivery_time</th>\n",
       "      <th>Product_rating</th>\n",
       "      <th>DiscOUNt</th>\n",
       "    </tr>\n",
       "  </thead>\n",
       "  <tbody>\n",
       "    <tr>\n",
       "      <th>count</th>\n",
       "      <td>1024.000000</td>\n",
       "      <td>1013.000000</td>\n",
       "      <td>1015.000000</td>\n",
       "      <td>1000.000000</td>\n",
       "      <td>1011.000000</td>\n",
       "      <td>1014.000000</td>\n",
       "      <td>1015.000000</td>\n",
       "    </tr>\n",
       "    <tr>\n",
       "      <th>mean</th>\n",
       "      <td>2016.387695</td>\n",
       "      <td>6.593287</td>\n",
       "      <td>284.198039</td>\n",
       "      <td>5.598000</td>\n",
       "      <td>4.057369</td>\n",
       "      <td>3.986588</td>\n",
       "      <td>44.229665</td>\n",
       "    </tr>\n",
       "    <tr>\n",
       "      <th>std</th>\n",
       "      <td>4.052091</td>\n",
       "      <td>3.443565</td>\n",
       "      <td>128.439806</td>\n",
       "      <td>2.764786</td>\n",
       "      <td>1.971247</td>\n",
       "      <td>0.567321</td>\n",
       "      <td>33.676211</td>\n",
       "    </tr>\n",
       "    <tr>\n",
       "      <th>min</th>\n",
       "      <td>2010.000000</td>\n",
       "      <td>1.000000</td>\n",
       "      <td>50.530000</td>\n",
       "      <td>1.000000</td>\n",
       "      <td>1.000000</td>\n",
       "      <td>3.000000</td>\n",
       "      <td>0.180000</td>\n",
       "    </tr>\n",
       "    <tr>\n",
       "      <th>25%</th>\n",
       "      <td>2013.000000</td>\n",
       "      <td>4.000000</td>\n",
       "      <td>174.585000</td>\n",
       "      <td>3.000000</td>\n",
       "      <td>2.000000</td>\n",
       "      <td>3.500000</td>\n",
       "      <td>16.865000</td>\n",
       "    </tr>\n",
       "    <tr>\n",
       "      <th>50%</th>\n",
       "      <td>2016.000000</td>\n",
       "      <td>7.000000</td>\n",
       "      <td>287.700000</td>\n",
       "      <td>6.000000</td>\n",
       "      <td>4.000000</td>\n",
       "      <td>4.000000</td>\n",
       "      <td>35.670000</td>\n",
       "    </tr>\n",
       "    <tr>\n",
       "      <th>75%</th>\n",
       "      <td>2020.000000</td>\n",
       "      <td>10.000000</td>\n",
       "      <td>394.640000</td>\n",
       "      <td>8.000000</td>\n",
       "      <td>6.000000</td>\n",
       "      <td>4.500000</td>\n",
       "      <td>66.430000</td>\n",
       "    </tr>\n",
       "    <tr>\n",
       "      <th>max</th>\n",
       "      <td>2023.000000</td>\n",
       "      <td>12.000000</td>\n",
       "      <td>499.760000</td>\n",
       "      <td>10.000000</td>\n",
       "      <td>7.000000</td>\n",
       "      <td>5.000000</td>\n",
       "      <td>145.120000</td>\n",
       "    </tr>\n",
       "  </tbody>\n",
       "</table>\n",
       "</div>"
      ],
      "text/plain": [
       "              YEAR       month   ORDer_Value   Items sold  Delivery_time  \\\n",
       "count  1024.000000  1013.000000  1015.000000  1000.000000    1011.000000   \n",
       "mean   2016.387695     6.593287   284.198039     5.598000       4.057369   \n",
       "std       4.052091     3.443565   128.439806     2.764786       1.971247   \n",
       "min    2010.000000     1.000000    50.530000     1.000000       1.000000   \n",
       "25%    2013.000000     4.000000   174.585000     3.000000       2.000000   \n",
       "50%    2016.000000     7.000000   287.700000     6.000000       4.000000   \n",
       "75%    2020.000000    10.000000   394.640000     8.000000       6.000000   \n",
       "max    2023.000000    12.000000   499.760000    10.000000       7.000000   \n",
       "\n",
       "       Product_rating     DiscOUNt  \n",
       "count     1014.000000  1015.000000  \n",
       "mean         3.986588    44.229665  \n",
       "std          0.567321    33.676211  \n",
       "min          3.000000     0.180000  \n",
       "25%          3.500000    16.865000  \n",
       "50%          4.000000    35.670000  \n",
       "75%          4.500000    66.430000  \n",
       "max          5.000000   145.120000  "
      ]
     },
     "execution_count": 123,
     "metadata": {},
     "output_type": "execute_result"
    }
   ],
   "source": [
    "df.describe()\n"
   ]
  },
  {
   "cell_type": "code",
   "execution_count": 124,
   "id": "7c55b236-1509-4a22-9ead-b2f8b2958fe9",
   "metadata": {},
   "outputs": [
    {
     "data": {
      "text/plain": [
       "Index(['year', 'month', 'city', 'category', 'payment_method', 'device_type',\n",
       "       'promotion_used', 'custsegment', 'order_value', 'items_sold',\n",
       "       'shipping_cost', 'delivery_time', 'product_rating', 'discount'],\n",
       "      dtype='object')"
      ]
     },
     "execution_count": 124,
     "metadata": {},
     "output_type": "execute_result"
    }
   ],
   "source": [
    "df.columns = df.columns.str.strip().str.lower().str.replace(' ', '_').str.replace('(', '').str.replace(')', '')\n",
    "df.columns"
   ]
  },
  {
   "cell_type": "code",
   "execution_count": 125,
   "id": "6d9c07d3-9319-48af-a4e4-4bf205b0e087",
   "metadata": {},
   "outputs": [],
   "source": [
    "# Şehir isimlerini düzeltme\n",
    "df['city'] = df['city'].str.replace('@', '').str.title()\n",
    "\n",
    "# Kategori sütunundaki \"@NA\" değerlerini NaN yapma\n",
    "df['category'] = df['category'].replace({'@NA': np.nan})\n",
    "\n",
    "# Ödeme yöntemlerini düzeltme\n",
    "df['payment_method'] = df['payment_method'].replace({\n",
    "    'Cr3dit C@rd': 'Credit Card',\n",
    "    'E-W@ll3t': 'E-Wallet',\n",
    "    '@E-Wallet': 'E-Wallet',\n",
    "    'CREDIT CARD': 'Credit Card'\n",
    "})\n",
    "\n",
    "# Cihaz isimlerini düzeltme\n",
    "df['device_type'] = df['device_type'].replace({\n",
    "    'D3sktop': 'Desktop',\n",
    "    'Mobil3': 'Mobile'\n",
    "})\n",
    "\n",
    "# Abonelik durumunu düzeltme\n",
    "df['promotion_used'] = df['promotion_used'].str.replace('@', '').str.title()\n",
    "\n",
    "# Müşteri tipi sütunundaki \"@New\" ve \"@Returning\" değerlerini düzeltme\n",
    "df['custsegment'] = df['custsegment'].str.replace('@', '')\n",
    "\n",
    "# Fiyat sütunundaki \"TRY\" metnini kaldırma ve sayıya çevirme\n"
   ]
  },
  {
   "cell_type": "code",
   "execution_count": 126,
   "id": "07135a6c-5747-4e16-bcd6-b28506535d9b",
   "metadata": {},
   "outputs": [
    {
     "name": "stdout",
     "output_type": "stream",
     "text": [
      "76\n"
     ]
    }
   ],
   "source": [
    "#  kaç tane Na değeri var\n",
    "print(df['year'].isna().sum())"
   ]
  },
  {
   "cell_type": "code",
   "execution_count": 127,
   "id": "0520ffd2-5807-4f06-99de-c29068a6955a",
   "metadata": {},
   "outputs": [
    {
     "data": {
      "text/plain": [
       "0       2020.0\n",
       "1       2023.0\n",
       "2       2011.0\n",
       "3       2017.0\n",
       "4       2013.0\n",
       "         ...  \n",
       "1095    2019.0\n",
       "1096    2017.0\n",
       "1097    2019.0\n",
       "1098    2013.0\n",
       "1099    2016.0\n",
       "Name: year, Length: 1100, dtype: float64"
      ]
     },
     "execution_count": 127,
     "metadata": {},
     "output_type": "execute_result"
    }
   ],
   "source": [
    "x = df['year']\n",
    "x"
   ]
  },
  {
   "cell_type": "code",
   "execution_count": 128,
   "id": "91ad23d7-ec8c-434a-ac84-c3ba30dce6fc",
   "metadata": {},
   "outputs": [],
   "source": [
    "# Initialize KNNImputer\n",
    "imputer = KNNImputer(n_neighbors=2)\n",
    "\n",
    "df[\"year\"] = imputer.fit_transform(df[[\"year\"]]).ravel()"
   ]
  },
  {
   "cell_type": "code",
   "execution_count": 129,
   "id": "04af4e02-2030-4a6a-9216-c17bf62ac20c",
   "metadata": {},
   "outputs": [
    {
     "name": "stdout",
     "output_type": "stream",
     "text": [
      "0\n"
     ]
    }
   ],
   "source": [
    "print(df['year'].isna().sum())"
   ]
  },
  {
   "cell_type": "code",
   "execution_count": 139,
   "id": "ab46ff92-6f43-42c4-939e-b6ace40b91d5",
   "metadata": {},
   "outputs": [
    {
     "data": {
      "text/plain": [
       "YEAR               14\n",
       "month              12\n",
       " CITY              83\n",
       "CatEgory           33\n",
       "PayMent_methoD     23\n",
       "DEVICE_type        18\n",
       "PROMOTion_used     13\n",
       "CustSegment        13\n",
       "ORDer_Value       919\n",
       "Items sold         10\n",
       "shipping_cost     842\n",
       "Delivery_time       7\n",
       "Product_rating     21\n",
       "DiscOUNt          886\n",
       "dtype: int64"
      ]
     },
     "execution_count": 139,
     "metadata": {},
     "output_type": "execute_result"
    }
   ],
   "source": [
    "data.nunique()"
   ]
  },
  {
   "cell_type": "code",
   "execution_count": 138,
   "id": "83f81624-f5d2-4d27-8b41-9b8c82032a28",
   "metadata": {},
   "outputs": [
    {
     "name": "stdout",
     "output_type": "stream",
     "text": [
      "[2016, 2017, 2018, 2019, 2020, 2021, 2022, 2023, 2010, 2011, 2012, 2013, 2014, 2015]\n"
     ]
    }
   ],
   "source": [
    "res = list(set(df['year']))\n",
    "print(res)"
   ]
  },
  {
   "cell_type": "code",
   "execution_count": 136,
   "id": "5c005799-aae4-47a7-b724-94408bf75d1d",
   "metadata": {},
   "outputs": [],
   "source": [
    "# 'year' sütununu tam sayıya çevirme\n",
    "df['year'] = df['year'].astype(int)"
   ]
  },
  {
   "cell_type": "code",
   "execution_count": 140,
   "id": "8a76d1ad-4a43-49aa-bdaf-f029d2f9bad1",
   "metadata": {},
   "outputs": [
    {
     "name": "stdout",
     "output_type": "stream",
     "text": [
      "[2016, 2017, 2018, 2019, 2020, 2021, 2022, 2023, 2010, 2011, 2012, 2013, 2014, 2015]\n"
     ]
    }
   ],
   "source": [
    "print(res)"
   ]
  },
  {
   "cell_type": "code",
   "execution_count": 141,
   "id": "5a2376c5-d59a-4463-a850-8e9e5ccbe684",
   "metadata": {},
   "outputs": [
    {
     "data": {
      "text/html": [
       "<div>\n",
       "<style scoped>\n",
       "    .dataframe tbody tr th:only-of-type {\n",
       "        vertical-align: middle;\n",
       "    }\n",
       "\n",
       "    .dataframe tbody tr th {\n",
       "        vertical-align: top;\n",
       "    }\n",
       "\n",
       "    .dataframe thead th {\n",
       "        text-align: right;\n",
       "    }\n",
       "</style>\n",
       "<table border=\"1\" class=\"dataframe\">\n",
       "  <thead>\n",
       "    <tr style=\"text-align: right;\">\n",
       "      <th></th>\n",
       "      <th>year</th>\n",
       "      <th>month</th>\n",
       "      <th>city</th>\n",
       "      <th>category</th>\n",
       "      <th>payment_method</th>\n",
       "      <th>device_type</th>\n",
       "      <th>promotion_used</th>\n",
       "      <th>custsegment</th>\n",
       "      <th>order_value</th>\n",
       "      <th>items_sold</th>\n",
       "      <th>shipping_cost</th>\n",
       "      <th>delivery_time</th>\n",
       "      <th>product_rating</th>\n",
       "      <th>discount</th>\n",
       "    </tr>\n",
       "  </thead>\n",
       "  <tbody>\n",
       "    <tr>\n",
       "      <th>0</th>\n",
       "      <td>2020</td>\n",
       "      <td>4.0</td>\n",
       "      <td>Bursa</td>\n",
       "      <td>NaN</td>\n",
       "      <td>Credit Card</td>\n",
       "      <td>Desktop</td>\n",
       "      <td>Yes</td>\n",
       "      <td>New</td>\n",
       "      <td>477.75</td>\n",
       "      <td>10.0</td>\n",
       "      <td>32.34 TRY</td>\n",
       "      <td>6.0</td>\n",
       "      <td>4.7</td>\n",
       "      <td>113.97</td>\n",
       "    </tr>\n",
       "    <tr>\n",
       "      <th>1</th>\n",
       "      <td>2023</td>\n",
       "      <td>11.0</td>\n",
       "      <td>Na</td>\n",
       "      <td>Toys</td>\n",
       "      <td>Debit Card</td>\n",
       "      <td>Desktop</td>\n",
       "      <td>No</td>\n",
       "      <td>Returning</td>\n",
       "      <td>369.63</td>\n",
       "      <td>4.0</td>\n",
       "      <td>34.56 TRY</td>\n",
       "      <td>2.0</td>\n",
       "      <td>4.6</td>\n",
       "      <td>103.36</td>\n",
       "    </tr>\n",
       "    <tr>\n",
       "      <th>2</th>\n",
       "      <td>2011</td>\n",
       "      <td>5.0</td>\n",
       "      <td>Samsun</td>\n",
       "      <td>NaN</td>\n",
       "      <td>E-Wallet</td>\n",
       "      <td>Desktop</td>\n",
       "      <td>No</td>\n",
       "      <td>Returning</td>\n",
       "      <td>264.94</td>\n",
       "      <td>3.0</td>\n",
       "      <td>24.97 TRY</td>\n",
       "      <td>3.0</td>\n",
       "      <td>3.4</td>\n",
       "      <td>22.84</td>\n",
       "    </tr>\n",
       "    <tr>\n",
       "      <th>3</th>\n",
       "      <td>2017</td>\n",
       "      <td>2.0</td>\n",
       "      <td>Diyarbakir</td>\n",
       "      <td>clothing</td>\n",
       "      <td>E-Wallet</td>\n",
       "      <td>Mobile</td>\n",
       "      <td>Yes</td>\n",
       "      <td>NA</td>\n",
       "      <td>353.31</td>\n",
       "      <td>8.0</td>\n",
       "      <td>36.25 TRY</td>\n",
       "      <td>4.0</td>\n",
       "      <td>3.6</td>\n",
       "      <td>59.85</td>\n",
       "    </tr>\n",
       "    <tr>\n",
       "      <th>4</th>\n",
       "      <td>2013</td>\n",
       "      <td>6.0</td>\n",
       "      <td>Bursa</td>\n",
       "      <td>NaN</td>\n",
       "      <td>Credit Card</td>\n",
       "      <td>Desktop</td>\n",
       "      <td>Yes</td>\n",
       "      <td>Returning</td>\n",
       "      <td>NaN</td>\n",
       "      <td>6.0</td>\n",
       "      <td>43.16 TRY</td>\n",
       "      <td>4.0</td>\n",
       "      <td>4.2</td>\n",
       "      <td>7.82</td>\n",
       "    </tr>\n",
       "  </tbody>\n",
       "</table>\n",
       "</div>"
      ],
      "text/plain": [
       "   year  month        city  category payment_method device_type  \\\n",
       "0  2020    4.0       Bursa       NaN    Credit Card     Desktop   \n",
       "1  2023   11.0          Na     Toys     Debit Card     Desktop    \n",
       "2  2011    5.0     Samsun        NaN       E-Wallet    Desktop    \n",
       "3  2017    2.0  Diyarbakir  clothing       E-Wallet      Mobile   \n",
       "4  2013    6.0       Bursa       NaN    Credit Card    Desktop    \n",
       "\n",
       "  promotion_used custsegment  order_value  items_sold shipping_cost  \\\n",
       "0            Yes         New       477.75        10.0     32.34 TRY   \n",
       "1            No    Returning       369.63         4.0     34.56 TRY   \n",
       "2             No   Returning       264.94         3.0     24.97 TRY   \n",
       "3            Yes          NA       353.31         8.0     36.25 TRY   \n",
       "4            Yes   Returning          NaN         6.0     43.16 TRY   \n",
       "\n",
       "   delivery_time  product_rating  discount  \n",
       "0            6.0             4.7    113.97  \n",
       "1            2.0             4.6    103.36  \n",
       "2            3.0             3.4     22.84  \n",
       "3            4.0             3.6     59.85  \n",
       "4            4.0             4.2      7.82  "
      ]
     },
     "execution_count": 141,
     "metadata": {},
     "output_type": "execute_result"
    }
   ],
   "source": [
    "df.head()"
   ]
  },
  {
   "cell_type": "code",
   "execution_count": 142,
   "id": "6308f5b5-4315-4fc4-a328-14defee1ece4",
   "metadata": {},
   "outputs": [
    {
     "name": "stdout",
     "output_type": "stream",
     "text": [
      "87\n"
     ]
    }
   ],
   "source": [
    "print(df['month'].isna().sum())"
   ]
  },
  {
   "cell_type": "code",
   "execution_count": 143,
   "id": "d7442c22-df62-4cf7-a398-0a21f5b7ee76",
   "metadata": {},
   "outputs": [],
   "source": [
    "imputer = KNNImputer(n_neighbors=2)\n",
    "\n",
    "df[\"month\"] = imputer.fit_transform(df[[\"month\"]]).ravel()"
   ]
  },
  {
   "cell_type": "code",
   "execution_count": 144,
   "id": "6704f554-3923-4fc1-a263-ee0e659f2936",
   "metadata": {},
   "outputs": [
    {
     "name": "stdout",
     "output_type": "stream",
     "text": [
      "0\n"
     ]
    }
   ],
   "source": [
    "print(df['month'].isna().sum())"
   ]
  },
  {
   "cell_type": "code",
   "execution_count": 145,
   "id": "5f166fcf-104c-4448-8919-4bb12e6a4fbf",
   "metadata": {},
   "outputs": [
    {
     "name": "stdout",
     "output_type": "stream",
     "text": [
      "[1.0, 2.0, 3.0, 4.0, 5.0, 6.0, 6.593287265547878, 8.0, 7.0, 10.0, 11.0, 12.0, 9.0]\n"
     ]
    }
   ],
   "source": [
    "res_1 = list(set(df['month']))\n",
    "print(res_1)"
   ]
  },
  {
   "cell_type": "code",
   "execution_count": 147,
   "id": "2aac380a-c2ab-4364-9b86-0ab869a2edb9",
   "metadata": {},
   "outputs": [],
   "source": [
    "df['month'] = df['month'].astype(int)"
   ]
  },
  {
   "cell_type": "code",
   "execution_count": 148,
   "id": "bd052e21-e8e5-425b-b1e1-ff2804d29494",
   "metadata": {},
   "outputs": [
    {
     "name": "stdout",
     "output_type": "stream",
     "text": [
      "[1, 2, 3, 4, 5, 6, 7, 8, 9, 10, 11, 12]\n"
     ]
    }
   ],
   "source": [
    "res_1 = list(set(df['month']))\n",
    "print(res_1)"
   ]
  },
  {
   "cell_type": "code",
   "execution_count": null,
   "id": "3e707503-706d-488f-bf1f-326bad3b576e",
   "metadata": {},
   "outputs": [],
   "source": []
  }
 ],
 "metadata": {
  "kernelspec": {
   "display_name": "Python 3 (ipykernel)",
   "language": "python",
   "name": "python3"
  },
  "language_info": {
   "codemirror_mode": {
    "name": "ipython",
    "version": 3
   },
   "file_extension": ".py",
   "mimetype": "text/x-python",
   "name": "python",
   "nbconvert_exporter": "python",
   "pygments_lexer": "ipython3",
   "version": "3.11.5"
  }
 },
 "nbformat": 4,
 "nbformat_minor": 5
}

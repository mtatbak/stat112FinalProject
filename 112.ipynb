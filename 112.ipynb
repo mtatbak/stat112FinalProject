{
 "cells": [
  {
   "cell_type": "code",
   "execution_count": 1,
   "id": "05bf7134-c0cb-4148-aadb-f0785988c7c3",
   "metadata": {},
   "outputs": [],
   "source": [
    "import pandas as pd \n",
    "import seaborn as sns\n",
    "import matplotlib.pyplot as plt\n",
    "import numpy as np\n",
    "from sklearn.impute import KNNImputer\n",
    "from sklearn.preprocessing import OneHotEncoder, StandardScaler, MinMaxScaler \n",
    "from sklearn.model_selection import GridSearchCV, train_test_split, KFold, cross_val_score\n",
    "from sklearn.linear_model import LinearRegression\n",
    "from sklearn.metrics import r2_score, mean_squared_error, accuracy_score, mean_absolute_error, mean_squared_error\n",
    "from sklearn.ensemble import GradientBoostingRegressor\n",
    "from sklearn.neural_network import MLPRegressor\n",
    "from sklearn.svm import SVR\n",
    "from sklearn.neighbors import KNeighborsRegressor\n",
    "from sklearn.cross_decomposition import PLSRegression\n",
    "from sklearn.tree import DecisionTreeRegressor\n",
    "import missingno as msno\n",
    "from sklearn.utils import shuffle \n",
    "from category_encoders import TargetEncoder, OneHotEncoder\n",
    "import warnings\n",
    "warnings.filterwarnings(\"ignore\")\n",
    "sns.set(rc = {'figure.figsize': (20, 20)})\n",
    "%matplotlib inline "
   ]
  },
  {
   "cell_type": "code",
   "execution_count": 2,
   "id": "3679249b-2d0d-48c8-9685-537e0034612b",
   "metadata": {},
   "outputs": [],
   "source": [
    "#reading\n",
    "df = pd.read_csv('Trendyol_Sales_Data_Dirty.csv')"
   ]
  },
  {
   "cell_type": "code",
   "execution_count": 3,
   "id": "8b1fd5bb-cd5e-468e-97bd-b48e85e0afe7",
   "metadata": {},
   "outputs": [
    {
     "data": {
      "text/plain": [
       "(1100, 14)"
      ]
     },
     "execution_count": 3,
     "metadata": {},
     "output_type": "execute_result"
    }
   ],
   "source": [
    "df.shape\n",
    "#(1100, 14)\n"
   ]
  },
  {
   "cell_type": "code",
   "execution_count": 4,
   "id": "5a604da8-420a-4a7d-b65f-0b7931406b20",
   "metadata": {},
   "outputs": [
    {
     "data": {
      "text/html": [
       "<div>\n",
       "<style scoped>\n",
       "    .dataframe tbody tr th:only-of-type {\n",
       "        vertical-align: middle;\n",
       "    }\n",
       "\n",
       "    .dataframe tbody tr th {\n",
       "        vertical-align: top;\n",
       "    }\n",
       "\n",
       "    .dataframe thead th {\n",
       "        text-align: right;\n",
       "    }\n",
       "</style>\n",
       "<table border=\"1\" class=\"dataframe\">\n",
       "  <thead>\n",
       "    <tr style=\"text-align: right;\">\n",
       "      <th></th>\n",
       "      <th>YEAR</th>\n",
       "      <th>month</th>\n",
       "      <th>CITY</th>\n",
       "      <th>CatEgory</th>\n",
       "      <th>PayMent_methoD</th>\n",
       "      <th>DEVICE_type</th>\n",
       "      <th>PROMOTion_used</th>\n",
       "      <th>CustSegment</th>\n",
       "      <th>ORDer_Value</th>\n",
       "      <th>Items sold</th>\n",
       "      <th>shipping_cost</th>\n",
       "      <th>Delivery_time</th>\n",
       "      <th>Product_rating</th>\n",
       "      <th>DiscOUNt</th>\n",
       "    </tr>\n",
       "  </thead>\n",
       "  <tbody>\n",
       "    <tr>\n",
       "      <th>0</th>\n",
       "      <td>2020.0</td>\n",
       "      <td>4.0</td>\n",
       "      <td>@Bursa</td>\n",
       "      <td>NaN</td>\n",
       "      <td>Cr3dit C@rd</td>\n",
       "      <td>D3sktop</td>\n",
       "      <td>@Yes</td>\n",
       "      <td>@New</td>\n",
       "      <td>477.75</td>\n",
       "      <td>10.0</td>\n",
       "      <td>32.34 TRY</td>\n",
       "      <td>6.0</td>\n",
       "      <td>4.7</td>\n",
       "      <td>113.97</td>\n",
       "    </tr>\n",
       "    <tr>\n",
       "      <th>1</th>\n",
       "      <td>2023.0</td>\n",
       "      <td>11.0</td>\n",
       "      <td>@NA</td>\n",
       "      <td>Toys</td>\n",
       "      <td>Debit Card</td>\n",
       "      <td>Desktop</td>\n",
       "      <td>No</td>\n",
       "      <td>@Returning</td>\n",
       "      <td>369.63</td>\n",
       "      <td>4.0</td>\n",
       "      <td>34.56 TRY</td>\n",
       "      <td>2.0</td>\n",
       "      <td>4.6</td>\n",
       "      <td>103.36</td>\n",
       "    </tr>\n",
       "    <tr>\n",
       "      <th>2</th>\n",
       "      <td>2011.0</td>\n",
       "      <td>5.0</td>\n",
       "      <td>Samsun</td>\n",
       "      <td>@NA</td>\n",
       "      <td>E-W@ll3t</td>\n",
       "      <td>Desktop</td>\n",
       "      <td>No</td>\n",
       "      <td>@Returning</td>\n",
       "      <td>264.94</td>\n",
       "      <td>3.0</td>\n",
       "      <td>24.97 TRY</td>\n",
       "      <td>3.0</td>\n",
       "      <td>3.4</td>\n",
       "      <td>22.84</td>\n",
       "    </tr>\n",
       "    <tr>\n",
       "      <th>3</th>\n",
       "      <td>2017.0</td>\n",
       "      <td>2.0</td>\n",
       "      <td>diyarbakir</td>\n",
       "      <td>clothing</td>\n",
       "      <td>@E-Wallet</td>\n",
       "      <td>Mobil3</td>\n",
       "      <td>YES</td>\n",
       "      <td>@NA</td>\n",
       "      <td>353.31</td>\n",
       "      <td>8.0</td>\n",
       "      <td>36.25 TRY</td>\n",
       "      <td>4.0</td>\n",
       "      <td>3.6</td>\n",
       "      <td>59.85</td>\n",
       "    </tr>\n",
       "    <tr>\n",
       "      <th>4</th>\n",
       "      <td>2013.0</td>\n",
       "      <td>6.0</td>\n",
       "      <td>BURSA</td>\n",
       "      <td>NaN</td>\n",
       "      <td>CREDIT CARD</td>\n",
       "      <td>Desktop</td>\n",
       "      <td>YES</td>\n",
       "      <td>@Returning</td>\n",
       "      <td>NaN</td>\n",
       "      <td>6.0</td>\n",
       "      <td>43.16 TRY</td>\n",
       "      <td>4.0</td>\n",
       "      <td>4.2</td>\n",
       "      <td>7.82</td>\n",
       "    </tr>\n",
       "  </tbody>\n",
       "</table>\n",
       "</div>"
      ],
      "text/plain": [
       "     YEAR  month         CITY  CatEgory PayMent_methoD DEVICE_type  \\\n",
       "0  2020.0     4.0      @Bursa       NaN    Cr3dit C@rd     D3sktop   \n",
       "1  2023.0    11.0         @NA     Toys     Debit Card     Desktop    \n",
       "2  2011.0     5.0     Samsun        @NA       E-W@ll3t    Desktop    \n",
       "3  2017.0     2.0  diyarbakir  clothing      @E-Wallet      Mobil3   \n",
       "4  2013.0     6.0       BURSA       NaN    CREDIT CARD    Desktop    \n",
       "\n",
       "  PROMOTion_used CustSegment  ORDer_Value  Items sold shipping_cost  \\\n",
       "0           @Yes        @New       477.75        10.0     32.34 TRY   \n",
       "1            No   @Returning       369.63         4.0     34.56 TRY   \n",
       "2             No  @Returning       264.94         3.0     24.97 TRY   \n",
       "3            YES         @NA       353.31         8.0     36.25 TRY   \n",
       "4            YES  @Returning          NaN         6.0     43.16 TRY   \n",
       "\n",
       "   Delivery_time  Product_rating  DiscOUNt  \n",
       "0            6.0             4.7    113.97  \n",
       "1            2.0             4.6    103.36  \n",
       "2            3.0             3.4     22.84  \n",
       "3            4.0             3.6     59.85  \n",
       "4            4.0             4.2      7.82  "
      ]
     },
     "execution_count": 4,
     "metadata": {},
     "output_type": "execute_result"
    }
   ],
   "source": [
    "df.head()"
   ]
  },
  {
   "cell_type": "code",
   "execution_count": 5,
   "id": "a3f9649f-cb93-4589-bd14-cc3fdda8569d",
   "metadata": {},
   "outputs": [
    {
     "data": {
      "text/plain": [
       "<Axes: >"
      ]
     },
     "execution_count": 5,
     "metadata": {},
     "output_type": "execute_result"
    },
    {
     "data": {
      "image/png": "[encoded data removed]",
      "text/plain": [
       "<Figure size 2500x1000 with 2 Axes>"
      ]
     },
     "metadata": {},
     "output_type": "display_data"
    }
   ],
   "source": [
    "msno.matrix(df, color = (0.5, 0.5, 0.5))"
   ]
  },
  {
   "cell_type": "code",
   "execution_count": 6,
   "id": "2481fe96-4912-43be-89b6-8d12fff78d43",
   "metadata": {},
   "outputs": [
    {
     "data": {
      "text/html": [
       "<div>\n",
       "<style scoped>\n",
       "    .dataframe tbody tr th:only-of-type {\n",
       "        vertical-align: middle;\n",
       "    }\n",
       "\n",
       "    .dataframe tbody tr th {\n",
       "        vertical-align: top;\n",
       "    }\n",
       "\n",
       "    .dataframe thead th {\n",
       "        text-align: right;\n",
       "    }\n",
       "</style>\n",
       "<table border=\"1\" class=\"dataframe\">\n",
       "  <thead>\n",
       "    <tr style=\"text-align: right;\">\n",
       "      <th></th>\n",
       "      <th>YEAR</th>\n",
       "      <th>month</th>\n",
       "      <th>CITY</th>\n",
       "      <th>CatEgory</th>\n",
       "      <th>PayMent_methoD</th>\n",
       "      <th>DEVICE_type</th>\n",
       "      <th>PROMOTion_used</th>\n",
       "      <th>CustSegment</th>\n",
       "      <th>ORDer_Value</th>\n",
       "      <th>Items sold</th>\n",
       "      <th>shipping_cost</th>\n",
       "      <th>Delivery_time</th>\n",
       "      <th>Product_rating</th>\n",
       "      <th>DiscOUNt</th>\n",
       "    </tr>\n",
       "  </thead>\n",
       "  <tbody>\n",
       "    <tr>\n",
       "      <th>1095</th>\n",
       "      <td>2019.0</td>\n",
       "      <td>6.0</td>\n",
       "      <td>diyarbakir</td>\n",
       "      <td>@Beauty</td>\n",
       "      <td>DEBIT CARD</td>\n",
       "      <td>Desktop</td>\n",
       "      <td>NA</td>\n",
       "      <td>@Returning</td>\n",
       "      <td>369.58</td>\n",
       "      <td>NaN</td>\n",
       "      <td>18.53 TRY</td>\n",
       "      <td>1.0</td>\n",
       "      <td>4.1</td>\n",
       "      <td>96.98</td>\n",
       "    </tr>\n",
       "    <tr>\n",
       "      <th>1096</th>\n",
       "      <td>2017.0</td>\n",
       "      <td>12.0</td>\n",
       "      <td>Ad@n@</td>\n",
       "      <td>Clothing</td>\n",
       "      <td>E-W@ll3t</td>\n",
       "      <td>Tablet</td>\n",
       "      <td>@Yes</td>\n",
       "      <td>returning</td>\n",
       "      <td>308.40</td>\n",
       "      <td>9.0</td>\n",
       "      <td>26.38 TRY</td>\n",
       "      <td>2.0</td>\n",
       "      <td>4.3</td>\n",
       "      <td>35.76</td>\n",
       "    </tr>\n",
       "    <tr>\n",
       "      <th>1097</th>\n",
       "      <td>2019.0</td>\n",
       "      <td>8.0</td>\n",
       "      <td>konya</td>\n",
       "      <td>@Home</td>\n",
       "      <td>credit card</td>\n",
       "      <td>@Desktop</td>\n",
       "      <td>Y3s</td>\n",
       "      <td>RETURNING</td>\n",
       "      <td>446.99</td>\n",
       "      <td>7.0</td>\n",
       "      <td>58.41 TRY</td>\n",
       "      <td>7.0</td>\n",
       "      <td>3.1</td>\n",
       "      <td>94.61</td>\n",
       "    </tr>\n",
       "    <tr>\n",
       "      <th>1098</th>\n",
       "      <td>2013.0</td>\n",
       "      <td>4.0</td>\n",
       "      <td>ANKARA</td>\n",
       "      <td>Clothing</td>\n",
       "      <td>@Debit Card</td>\n",
       "      <td>DESKTOP</td>\n",
       "      <td>@Yes</td>\n",
       "      <td>@New</td>\n",
       "      <td>454.18</td>\n",
       "      <td>3.0</td>\n",
       "      <td>63.72 TRY</td>\n",
       "      <td>4.0</td>\n",
       "      <td>3.8</td>\n",
       "      <td>51.76</td>\n",
       "    </tr>\n",
       "    <tr>\n",
       "      <th>1099</th>\n",
       "      <td>2016.0</td>\n",
       "      <td>3.0</td>\n",
       "      <td>Kony@</td>\n",
       "      <td>clothing</td>\n",
       "      <td>na</td>\n",
       "      <td>tablet</td>\n",
       "      <td>@No</td>\n",
       "      <td>@New</td>\n",
       "      <td>202.42</td>\n",
       "      <td>NaN</td>\n",
       "      <td>14.81 TRY</td>\n",
       "      <td>6.0</td>\n",
       "      <td>NaN</td>\n",
       "      <td>48.62</td>\n",
       "    </tr>\n",
       "  </tbody>\n",
       "</table>\n",
       "</div>"
      ],
      "text/plain": [
       "        YEAR  month         CITY  CatEgory PayMent_methoD DEVICE_type  \\\n",
       "1095  2019.0     6.0  diyarbakir   @Beauty     DEBIT CARD    Desktop    \n",
       "1096  2017.0    12.0       Ad@n@  Clothing       E-W@ll3t     Tablet    \n",
       "1097  2019.0     8.0       konya     @Home    credit card    @Desktop   \n",
       "1098  2013.0     4.0      ANKARA  Clothing    @Debit Card     DESKTOP   \n",
       "1099  2016.0     3.0       Kony@  clothing             na      tablet   \n",
       "\n",
       "     PROMOTion_used CustSegment  ORDer_Value  Items sold shipping_cost  \\\n",
       "1095            NA   @Returning       369.58         NaN     18.53 TRY   \n",
       "1096           @Yes   returning       308.40         9.0     26.38 TRY   \n",
       "1097            Y3s   RETURNING       446.99         7.0     58.41 TRY   \n",
       "1098           @Yes        @New       454.18         3.0     63.72 TRY   \n",
       "1099            @No        @New       202.42         NaN     14.81 TRY   \n",
       "\n",
       "      Delivery_time  Product_rating  DiscOUNt  \n",
       "1095            1.0             4.1     96.98  \n",
       "1096            2.0             4.3     35.76  \n",
       "1097            7.0             3.1     94.61  \n",
       "1098            4.0             3.8     51.76  \n",
       "1099            6.0             NaN     48.62  "
      ]
     },
     "execution_count": 6,
     "metadata": {},
     "output_type": "execute_result"
    }
   ],
   "source": [
    "df.tail()"
   ]
  },
  {
   "cell_type": "code",
   "execution_count": 7,
   "id": "d6c40fdf-0938-403e-8485-605dd987d7f1",
   "metadata": {
    "scrolled": true
   },
   "outputs": [
    {
     "data": {
      "text/html": [
       "<div>\n",
       "<style scoped>\n",
       "    .dataframe tbody tr th:only-of-type {\n",
       "        vertical-align: middle;\n",
       "    }\n",
       "\n",
       "    .dataframe tbody tr th {\n",
       "        vertical-align: top;\n",
       "    }\n",
       "\n",
       "    .dataframe thead th {\n",
       "        text-align: right;\n",
       "    }\n",
       "</style>\n",
       "<table border=\"1\" class=\"dataframe\">\n",
       "  <thead>\n",
       "    <tr style=\"text-align: right;\">\n",
       "      <th></th>\n",
       "      <th>YEAR</th>\n",
       "      <th>month</th>\n",
       "      <th>ORDer_Value</th>\n",
       "      <th>Items sold</th>\n",
       "      <th>Delivery_time</th>\n",
       "      <th>Product_rating</th>\n",
       "      <th>DiscOUNt</th>\n",
       "    </tr>\n",
       "  </thead>\n",
       "  <tbody>\n",
       "    <tr>\n",
       "      <th>count</th>\n",
       "      <td>1024.000000</td>\n",
       "      <td>1013.000000</td>\n",
       "      <td>1015.000000</td>\n",
       "      <td>1000.000000</td>\n",
       "      <td>1011.000000</td>\n",
       "      <td>1014.000000</td>\n",
       "      <td>1015.000000</td>\n",
       "    </tr>\n",
       "    <tr>\n",
       "      <th>mean</th>\n",
       "      <td>2016.387695</td>\n",
       "      <td>6.593287</td>\n",
       "      <td>284.198039</td>\n",
       "      <td>5.598000</td>\n",
       "      <td>4.057369</td>\n",
       "      <td>3.986588</td>\n",
       "      <td>44.229665</td>\n",
       "    </tr>\n",
       "    <tr>\n",
       "      <th>std</th>\n",
       "      <td>4.052091</td>\n",
       "      <td>3.443565</td>\n",
       "      <td>128.439806</td>\n",
       "      <td>2.764786</td>\n",
       "      <td>1.971247</td>\n",
       "      <td>0.567321</td>\n",
       "      <td>33.676211</td>\n",
       "    </tr>\n",
       "    <tr>\n",
       "      <th>min</th>\n",
       "      <td>2010.000000</td>\n",
       "      <td>1.000000</td>\n",
       "      <td>50.530000</td>\n",
       "      <td>1.000000</td>\n",
       "      <td>1.000000</td>\n",
       "      <td>3.000000</td>\n",
       "      <td>0.180000</td>\n",
       "    </tr>\n",
       "    <tr>\n",
       "      <th>25%</th>\n",
       "      <td>2013.000000</td>\n",
       "      <td>4.000000</td>\n",
       "      <td>174.585000</td>\n",
       "      <td>3.000000</td>\n",
       "      <td>2.000000</td>\n",
       "      <td>3.500000</td>\n",
       "      <td>16.865000</td>\n",
       "    </tr>\n",
       "    <tr>\n",
       "      <th>50%</th>\n",
       "      <td>2016.000000</td>\n",
       "      <td>7.000000</td>\n",
       "      <td>287.700000</td>\n",
       "      <td>6.000000</td>\n",
       "      <td>4.000000</td>\n",
       "      <td>4.000000</td>\n",
       "      <td>35.670000</td>\n",
       "    </tr>\n",
       "    <tr>\n",
       "      <th>75%</th>\n",
       "      <td>2020.000000</td>\n",
       "      <td>10.000000</td>\n",
       "      <td>394.640000</td>\n",
       "      <td>8.000000</td>\n",
       "      <td>6.000000</td>\n",
       "      <td>4.500000</td>\n",
       "      <td>66.430000</td>\n",
       "    </tr>\n",
       "    <tr>\n",
       "      <th>max</th>\n",
       "      <td>2023.000000</td>\n",
       "      <td>12.000000</td>\n",
       "      <td>499.760000</td>\n",
       "      <td>10.000000</td>\n",
       "      <td>7.000000</td>\n",
       "      <td>5.000000</td>\n",
       "      <td>145.120000</td>\n",
       "    </tr>\n",
       "  </tbody>\n",
       "</table>\n",
       "</div>"
      ],
      "text/plain": [
       "              YEAR       month   ORDer_Value   Items sold  Delivery_time  \\\n",
       "count  1024.000000  1013.000000  1015.000000  1000.000000    1011.000000   \n",
       "mean   2016.387695     6.593287   284.198039     5.598000       4.057369   \n",
       "std       4.052091     3.443565   128.439806     2.764786       1.971247   \n",
       "min    2010.000000     1.000000    50.530000     1.000000       1.000000   \n",
       "25%    2013.000000     4.000000   174.585000     3.000000       2.000000   \n",
       "50%    2016.000000     7.000000   287.700000     6.000000       4.000000   \n",
       "75%    2020.000000    10.000000   394.640000     8.000000       6.000000   \n",
       "max    2023.000000    12.000000   499.760000    10.000000       7.000000   \n",
       "\n",
       "       Product_rating     DiscOUNt  \n",
       "count     1014.000000  1015.000000  \n",
       "mean         3.986588    44.229665  \n",
       "std          0.567321    33.676211  \n",
       "min          3.000000     0.180000  \n",
       "25%          3.500000    16.865000  \n",
       "50%          4.000000    35.670000  \n",
       "75%          4.500000    66.430000  \n",
       "max          5.000000   145.120000  "
      ]
     },
     "execution_count": 7,
     "metadata": {},
     "output_type": "execute_result"
    }
   ],
   "source": [
    "df.describe()\n"
   ]
  },
  {
   "cell_type": "code",
   "execution_count": 8,
   "id": "98f9cee6",
   "metadata": {},
   "outputs": [],
   "source": [
    "# removed empty spaces the columns names\n",
    "df.columns = df.columns.str.strip() \n",
    "df = df.apply(lambda x: x.str.replace(r'\\s+', ' ', regex=True) if x.dtype == \"object\" else x)"
   ]
  },
  {
   "cell_type": "code",
   "execution_count": 9,
   "id": "de77789e",
   "metadata": {},
   "outputs": [],
   "source": [
    "df.rename(columns={\n",
    "    'YEAR': 'year',\n",
    "    \"CITY\":\"city\",\n",
    "    'month': 'month',\n",
    "    'CatEgory': 'category',\n",
    "    'PayMent_methoD': 'payment_method',\n",
    "    'DEVICE_type': 'device_type',\n",
    "    'PROMOTion_used': 'promotion_used',\n",
    "    'CustSegment': 'customer_segment',\n",
    "    'ORDer_Value': 'order_value',\n",
    "    'Items sold': 'sold_items',\n",
    "    'shipping_cost': 'shipping_cost',\n",
    "    'Delivery_time': 'delivery_time',\n",
    "    'Product_rating': 'product_rating',\n",
    "    'DiscOUNt': 'discount'\n",
    "}, inplace=True) # changed the names of the columns"
   ]
  },
  {
   "cell_type": "code",
   "execution_count": 10,
   "id": "e296125d",
   "metadata": {},
   "outputs": [],
   "source": [
    "columns_to_object = ['year', 'month','city','category','payment_method','device_type','promotion_used','customer_segment']\n",
    "df[columns_to_object] = df[columns_to_object].astype('object') #changed datatypes"
   ]
  },
  {
   "cell_type": "code",
   "execution_count": 11,
   "id": "5f40b549",
   "metadata": {},
   "outputs": [],
   "source": [
    "df['shipping_cost'] = df['shipping_cost'].replace({'TRY': '', '₺': ''}, regex=True) #removed TRY"
   ]
  },
  {
   "cell_type": "code",
   "execution_count": 12,
   "id": "83850a45",
   "metadata": {},
   "outputs": [],
   "source": [
    "columns_to_float = ['order_value', 'sold_items','shipping_cost','delivery_time','product_rating','discount']\n",
    "df[columns_to_float] = df[columns_to_float].apply(pd.to_numeric, errors='coerce') #changed datatypes"
   ]
  },
  {
   "cell_type": "code",
   "execution_count": 13,
   "id": "eae4b708",
   "metadata": {},
   "outputs": [
    {
     "name": "stdout",
     "output_type": "stream",
     "text": [
      "<class 'pandas.core.frame.DataFrame'>\n",
      "RangeIndex: 1100 entries, 0 to 1099\n",
      "Data columns (total 14 columns):\n",
      " #   Column            Non-Null Count  Dtype  \n",
      "---  ------            --------------  -----  \n",
      " 0   year              1024 non-null   object \n",
      " 1   month             1013 non-null   object \n",
      " 2   city              1067 non-null   object \n",
      " 3   category          1063 non-null   object \n",
      " 4   payment_method    1070 non-null   object \n",
      " 5   device_type       1058 non-null   object \n",
      " 6   promotion_used    1070 non-null   object \n",
      " 7   customer_segment  1061 non-null   object \n",
      " 8   order_value       1015 non-null   float64\n",
      " 9   sold_items        1000 non-null   float64\n",
      " 10  shipping_cost     1018 non-null   float64\n",
      " 11  delivery_time     1011 non-null   float64\n",
      " 12  product_rating    1014 non-null   float64\n",
      " 13  discount          1015 non-null   float64\n",
      "dtypes: float64(6), object(8)\n",
      "memory usage: 120.4+ KB\n"
     ]
    }
   ],
   "source": [
    "df.info()"
   ]
  },
  {
   "cell_type": "code",
   "execution_count": 14,
   "id": "aa4bd425",
   "metadata": {},
   "outputs": [],
   "source": [
    "df['date'] = pd.to_datetime(df[['year', 'month']].assign(day=1)) # combine month and year and assign day 1"
   ]
  },
  {
   "cell_type": "code",
   "execution_count": 15,
   "id": "af2a68f2",
   "metadata": {},
   "outputs": [],
   "source": [
    "df.drop(['year', 'month'], axis=1, inplace=True)\n",
    "#dropped year and month"
   ]
  },
  {
   "cell_type": "code",
   "execution_count": 16,
   "id": "f958b83d",
   "metadata": {},
   "outputs": [],
   "source": [
    "nonValue = [\"@na\",\"NaN\",\"@NA\",\"na\",\"NA\",\"none\",\"None\",\"empty\",\"NONE\",None,\"\"]\n",
    "df = df.replace(nonValue ,np.nan) # converted NaN all null values."
   ]
  },
  {
   "cell_type": "code",
   "execution_count": 17,
   "id": "cc6b11d3",
   "metadata": {},
   "outputs": [
    {
     "data": {
      "text/html": [
       "<div>\n",
       "<style scoped>\n",
       "    .dataframe tbody tr th:only-of-type {\n",
       "        vertical-align: middle;\n",
       "    }\n",
       "\n",
       "    .dataframe tbody tr th {\n",
       "        vertical-align: top;\n",
       "    }\n",
       "\n",
       "    .dataframe thead th {\n",
       "        text-align: right;\n",
       "    }\n",
       "</style>\n",
       "<table border=\"1\" class=\"dataframe\">\n",
       "  <thead>\n",
       "    <tr style=\"text-align: right;\">\n",
       "      <th></th>\n",
       "      <th>city</th>\n",
       "      <th>category</th>\n",
       "      <th>payment_method</th>\n",
       "      <th>device_type</th>\n",
       "      <th>promotion_used</th>\n",
       "      <th>customer_segment</th>\n",
       "      <th>order_value</th>\n",
       "      <th>sold_items</th>\n",
       "      <th>shipping_cost</th>\n",
       "      <th>delivery_time</th>\n",
       "      <th>product_rating</th>\n",
       "      <th>discount</th>\n",
       "      <th>date</th>\n",
       "    </tr>\n",
       "  </thead>\n",
       "  <tbody>\n",
       "    <tr>\n",
       "      <th>0</th>\n",
       "      <td>@Bursa</td>\n",
       "      <td>NaN</td>\n",
       "      <td>Cr3dit C@rd</td>\n",
       "      <td>D3sktop</td>\n",
       "      <td>@Yes</td>\n",
       "      <td>@New</td>\n",
       "      <td>477.75</td>\n",
       "      <td>10.0</td>\n",
       "      <td>32.34</td>\n",
       "      <td>6.0</td>\n",
       "      <td>4.7</td>\n",
       "      <td>113.97</td>\n",
       "      <td>2020-04-01</td>\n",
       "    </tr>\n",
       "    <tr>\n",
       "      <th>1</th>\n",
       "      <td>NaN</td>\n",
       "      <td>Toys</td>\n",
       "      <td>Debit Card</td>\n",
       "      <td>Desktop</td>\n",
       "      <td>No</td>\n",
       "      <td>@Returning</td>\n",
       "      <td>369.63</td>\n",
       "      <td>4.0</td>\n",
       "      <td>34.56</td>\n",
       "      <td>2.0</td>\n",
       "      <td>4.6</td>\n",
       "      <td>103.36</td>\n",
       "      <td>2023-11-01</td>\n",
       "    </tr>\n",
       "    <tr>\n",
       "      <th>2</th>\n",
       "      <td>Samsun</td>\n",
       "      <td>NaN</td>\n",
       "      <td>E-W@ll3t</td>\n",
       "      <td>Desktop</td>\n",
       "      <td>No</td>\n",
       "      <td>@Returning</td>\n",
       "      <td>264.94</td>\n",
       "      <td>3.0</td>\n",
       "      <td>24.97</td>\n",
       "      <td>3.0</td>\n",
       "      <td>3.4</td>\n",
       "      <td>22.84</td>\n",
       "      <td>2011-05-01</td>\n",
       "    </tr>\n",
       "    <tr>\n",
       "      <th>3</th>\n",
       "      <td>diyarbakir</td>\n",
       "      <td>clothing</td>\n",
       "      <td>@E-Wallet</td>\n",
       "      <td>Mobil3</td>\n",
       "      <td>YES</td>\n",
       "      <td>NaN</td>\n",
       "      <td>353.31</td>\n",
       "      <td>8.0</td>\n",
       "      <td>36.25</td>\n",
       "      <td>4.0</td>\n",
       "      <td>3.6</td>\n",
       "      <td>59.85</td>\n",
       "      <td>2017-02-01</td>\n",
       "    </tr>\n",
       "    <tr>\n",
       "      <th>4</th>\n",
       "      <td>BURSA</td>\n",
       "      <td>NaN</td>\n",
       "      <td>CREDIT CARD</td>\n",
       "      <td>Desktop</td>\n",
       "      <td>YES</td>\n",
       "      <td>@Returning</td>\n",
       "      <td>NaN</td>\n",
       "      <td>6.0</td>\n",
       "      <td>43.16</td>\n",
       "      <td>4.0</td>\n",
       "      <td>4.2</td>\n",
       "      <td>7.82</td>\n",
       "      <td>2013-06-01</td>\n",
       "    </tr>\n",
       "  </tbody>\n",
       "</table>\n",
       "</div>"
      ],
      "text/plain": [
       "         city  category payment_method device_type promotion_used  \\\n",
       "0      @Bursa       NaN    Cr3dit C@rd     D3sktop           @Yes   \n",
       "1         NaN     Toys     Debit Card     Desktop             No    \n",
       "2     Samsun        NaN       E-W@ll3t    Desktop              No   \n",
       "3  diyarbakir  clothing      @E-Wallet      Mobil3            YES   \n",
       "4       BURSA       NaN    CREDIT CARD    Desktop             YES   \n",
       "\n",
       "  customer_segment  order_value  sold_items  shipping_cost  delivery_time  \\\n",
       "0             @New       477.75        10.0          32.34            6.0   \n",
       "1       @Returning       369.63         4.0          34.56            2.0   \n",
       "2       @Returning       264.94         3.0          24.97            3.0   \n",
       "3              NaN       353.31         8.0          36.25            4.0   \n",
       "4       @Returning          NaN         6.0          43.16            4.0   \n",
       "\n",
       "   product_rating  discount       date  \n",
       "0             4.7    113.97 2020-04-01  \n",
       "1             4.6    103.36 2023-11-01  \n",
       "2             3.4     22.84 2011-05-01  \n",
       "3             3.6     59.85 2017-02-01  \n",
       "4             4.2      7.82 2013-06-01  "
      ]
     },
     "execution_count": 17,
     "metadata": {},
     "output_type": "execute_result"
    }
   ],
   "source": [
    "df.head()"
   ]
  },
  {
   "cell_type": "code",
   "execution_count": 18,
   "id": "a1c3e73c",
   "metadata": {},
   "outputs": [
    {
     "data": {
      "text/plain": [
       "city                 6.454545\n",
       "category             6.909091\n",
       "payment_method       5.363636\n",
       "device_type          6.727273\n",
       "promotion_used       6.000000\n",
       "customer_segment     7.000000\n",
       "order_value          7.727273\n",
       "sold_items           9.090909\n",
       "shipping_cost        7.454545\n",
       "delivery_time        8.090909\n",
       "product_rating       7.818182\n",
       "discount             7.727273\n",
       "date                14.454545\n",
       "dtype: float64"
      ]
     },
     "execution_count": 18,
     "metadata": {},
     "output_type": "execute_result"
    }
   ],
   "source": [
    "df.isnull().mean() * 100 # missing percentage\n"
   ]
  },
  {
   "cell_type": "code",
   "execution_count": 19,
   "id": "07135a6c-5747-4e16-bcd6-b28506535d9b",
   "metadata": {},
   "outputs": [
    {
     "data": {
      "text/plain": [
       "np.int64(71)"
      ]
     },
     "execution_count": 19,
     "metadata": {},
     "output_type": "execute_result"
    }
   ],
   "source": [
    "#  # of missing values in city column \n",
    "df['city'].isna().sum()"
   ]
  },
  {
   "cell_type": "code",
   "execution_count": 20,
   "id": "821a8712",
   "metadata": {},
   "outputs": [
    {
     "data": {
      "text/plain": [
       "array(['@Bursa', nan, 'Samsun ', 'diyarbakir', 'BURSA', 'S@msun', 'NA ',\n",
       "       '@Istanbul', 'Tr@bzon', 'Malatya ', 'gaziantep', 'Diyarbakir ',\n",
       "       'Van ', 'KAYSERI', 'TRABZON', 'Kayseri ', 'konya', '@Van',\n",
       "       'GAZIANTEP', 'eskişehir', 'ankara', 'samsun', 'VAN', 'kayseri',\n",
       "       '@Trabzon', 'Izmir', 'Istanbul ', 'Eskiş3hir', '@Ankara', '@Adana',\n",
       "       'Burs@', 'bursa', 'trabzon', 'istanbul', 'M@l@ty@', '@Eskişehir',\n",
       "       'van', 'V@n', 'ADANA', '@Malatya', 'K@ys3ri', '@Kayseri',\n",
       "       'ESKIŞEHIR', 'DIYARBAKIR', 'Izmir ', 'KONYA', 'Antalya ',\n",
       "       'Eskişehir ', 'Ankara ', 'Ank@r@', '@Samsun', 'Mersin ',\n",
       "       'Gaziantep ', 'izmir', 'Ad@n@', 'ANTALYA', 'SAMSUN', 'MALATYA',\n",
       "       'ANKARA', 'adana', 'M3rsin', '@Antalya', 'Diy@rb@kir', 'mersin',\n",
       "       'Ist@nbul', 'Trabzon ', 'G@zi@nt3p', '@Izmir', 'Adana ', 'Ant@ly@',\n",
       "       '@Diyarbakir', 'ISTANBUL', '@Konya', 'IZMIR', 'Konya ',\n",
       "       '@Gaziantep', 'MERSIN', 'Kony@', 'antalya', '@Mersin', 'Bursa ',\n",
       "       'malatya'], dtype=object)"
      ]
     },
     "execution_count": 20,
     "metadata": {},
     "output_type": "execute_result"
    }
   ],
   "source": [
    "df[\"city\"].unique()"
   ]
  },
  {
   "cell_type": "code",
   "execution_count": 21,
   "id": "14c939d0",
   "metadata": {},
   "outputs": [],
   "source": [
    "df['city'] = df['city'].str.strip().str.replace(\"@\",\"\").str.title()"
   ]
  },
  {
   "cell_type": "code",
   "execution_count": 22,
   "id": "39c83c8b",
   "metadata": {},
   "outputs": [],
   "source": [
    "df[\"city\"]= df[\"city\"].replace(\"Na\",np.nan)"
   ]
  },
  {
   "cell_type": "code",
   "execution_count": 23,
   "id": "4da50266",
   "metadata": {},
   "outputs": [
    {
     "data": {
      "text/plain": [
       "array(['Bursa', nan, 'Samsun', 'Diyarbakir', 'Smsun', 'Istanbul',\n",
       "       'Trbzon', 'Malatya', 'Gaziantep', 'Van', 'Kayseri', 'Trabzon',\n",
       "       'Konya', 'Eskişehir', 'Ankara', 'Izmir', 'Eskiş3Hir', 'Adana',\n",
       "       'Burs', 'Mlty', 'Vn', 'Kys3Ri', 'Antalya', 'Ankr', 'Mersin', 'Adn',\n",
       "       'M3Rsin', 'Diyrbkir', 'Istnbul', 'Gzint3P', 'Antly', 'Kony'],\n",
       "      dtype=object)"
      ]
     },
     "execution_count": 23,
     "metadata": {},
     "output_type": "execute_result"
    }
   ],
   "source": [
    "df[\"city\"].unique()"
   ]
  },
  {
   "cell_type": "code",
   "execution_count": 24,
   "id": "72da633a",
   "metadata": {},
   "outputs": [],
   "source": [
    "df[\"city\"] = df[\"city\"].replace({\n",
    "                                     \"Diyarbakir\":\"Diyarbakır\",\n",
    "                                     \"Smsun\":\"Samsun\",\n",
    "                                     \"Istanbul\":\"İstanbul\",\n",
    "                                     \"Trbzon\":\"Trabzon\",\n",
    "                                     \"Izmir\":\"İzmir\",\n",
    "                                     \"Eskiş3Hir\":\"Eskişehir\",\n",
    "                                     \"Burs\":\"Bursa\",\n",
    "                                     \"Mlty\":\"Malatya\",\n",
    "                                     \"Vn\":\"Van\",\n",
    "                                     \"Kys3Ri\":\"Kayseri\",\n",
    "                                     \"Ankr\":\"Ankara\",\n",
    "                                     \"Adn\":\"Adana\",\n",
    "                                     \"M3Rsin\":\"Mersin\",\n",
    "                                     \"Diyrbkir\":\"Diyarbakır\",\n",
    "                                     \"Istnbul\":\"İstanbul\",\n",
    "                                     \"Gzint3P\":\"Gaziantep\",\n",
    "                                     \"Antly\":\"Antalya\",\n",
    "                                    \"Kony\":\"Konya\"})"
   ]
  },
  {
   "cell_type": "code",
   "execution_count": 25,
   "id": "d8651022",
   "metadata": {},
   "outputs": [
    {
     "data": {
      "text/plain": [
       "array(['Bursa', nan, 'Samsun', 'Diyarbakır', 'İstanbul', 'Trabzon',\n",
       "       'Malatya', 'Gaziantep', 'Van', 'Kayseri', 'Konya', 'Eskişehir',\n",
       "       'Ankara', 'İzmir', 'Adana', 'Antalya', 'Mersin'], dtype=object)"
      ]
     },
     "execution_count": 25,
     "metadata": {},
     "output_type": "execute_result"
    }
   ],
   "source": [
    "df[\"city\"].unique()"
   ]
  },
  {
   "cell_type": "code",
   "execution_count": 26,
   "id": "c69e413f",
   "metadata": {},
   "outputs": [],
   "source": [
    "# we have 71 missing values and we filled with mode\n",
    "modeCity = df[\"city\"].mode()[0]\n",
    "modeCity #Ankara\n",
    "df[\"city\"] = df[\"city\"].fillna(modeCity)\n"
   ]
  },
  {
   "cell_type": "code",
   "execution_count": 27,
   "id": "966f3550",
   "metadata": {},
   "outputs": [
    {
     "data": {
      "text/plain": [
       "array(['Bursa', 'Ankara', 'Samsun', 'Diyarbakır', 'İstanbul', 'Trabzon',\n",
       "       'Malatya', 'Gaziantep', 'Van', 'Kayseri', 'Konya', 'Eskişehir',\n",
       "       'İzmir', 'Adana', 'Antalya', 'Mersin'], dtype=object)"
      ]
     },
     "execution_count": 27,
     "metadata": {},
     "output_type": "execute_result"
    }
   ],
   "source": [
    "df['city'].unique()"
   ]
  },
  {
   "cell_type": "code",
   "execution_count": 28,
   "id": "6a48a0cc",
   "metadata": {},
   "outputs": [
    {
     "data": {
      "text/plain": [
       "np.int64(0)"
      ]
     },
     "execution_count": 28,
     "metadata": {},
     "output_type": "execute_result"
    }
   ],
   "source": [
    "df[\"city\"].isnull().sum() # 0 missing values"
   ]
  },
  {
   "cell_type": "code",
   "execution_count": 29,
   "id": "5fb74f0d",
   "metadata": {},
   "outputs": [
    {
     "data": {
      "text/html": [
       "<div>\n",
       "<style scoped>\n",
       "    .dataframe tbody tr th:only-of-type {\n",
       "        vertical-align: middle;\n",
       "    }\n",
       "\n",
       "    .dataframe tbody tr th {\n",
       "        vertical-align: top;\n",
       "    }\n",
       "\n",
       "    .dataframe thead th {\n",
       "        text-align: right;\n",
       "    }\n",
       "</style>\n",
       "<table border=\"1\" class=\"dataframe\">\n",
       "  <thead>\n",
       "    <tr style=\"text-align: right;\">\n",
       "      <th></th>\n",
       "      <th>city</th>\n",
       "      <th>category</th>\n",
       "      <th>payment_method</th>\n",
       "      <th>device_type</th>\n",
       "      <th>promotion_used</th>\n",
       "      <th>customer_segment</th>\n",
       "      <th>order_value</th>\n",
       "      <th>sold_items</th>\n",
       "      <th>shipping_cost</th>\n",
       "      <th>delivery_time</th>\n",
       "      <th>product_rating</th>\n",
       "      <th>discount</th>\n",
       "      <th>date</th>\n",
       "    </tr>\n",
       "  </thead>\n",
       "  <tbody>\n",
       "    <tr>\n",
       "      <th>0</th>\n",
       "      <td>Bursa</td>\n",
       "      <td>NaN</td>\n",
       "      <td>Cr3dit C@rd</td>\n",
       "      <td>D3sktop</td>\n",
       "      <td>@Yes</td>\n",
       "      <td>@New</td>\n",
       "      <td>477.75</td>\n",
       "      <td>10.0</td>\n",
       "      <td>32.34</td>\n",
       "      <td>6.0</td>\n",
       "      <td>4.7</td>\n",
       "      <td>113.97</td>\n",
       "      <td>2020-04-01</td>\n",
       "    </tr>\n",
       "    <tr>\n",
       "      <th>1</th>\n",
       "      <td>Ankara</td>\n",
       "      <td>Toys</td>\n",
       "      <td>Debit Card</td>\n",
       "      <td>Desktop</td>\n",
       "      <td>No</td>\n",
       "      <td>@Returning</td>\n",
       "      <td>369.63</td>\n",
       "      <td>4.0</td>\n",
       "      <td>34.56</td>\n",
       "      <td>2.0</td>\n",
       "      <td>4.6</td>\n",
       "      <td>103.36</td>\n",
       "      <td>2023-11-01</td>\n",
       "    </tr>\n",
       "    <tr>\n",
       "      <th>2</th>\n",
       "      <td>Samsun</td>\n",
       "      <td>NaN</td>\n",
       "      <td>E-W@ll3t</td>\n",
       "      <td>Desktop</td>\n",
       "      <td>No</td>\n",
       "      <td>@Returning</td>\n",
       "      <td>264.94</td>\n",
       "      <td>3.0</td>\n",
       "      <td>24.97</td>\n",
       "      <td>3.0</td>\n",
       "      <td>3.4</td>\n",
       "      <td>22.84</td>\n",
       "      <td>2011-05-01</td>\n",
       "    </tr>\n",
       "    <tr>\n",
       "      <th>3</th>\n",
       "      <td>Diyarbakır</td>\n",
       "      <td>clothing</td>\n",
       "      <td>@E-Wallet</td>\n",
       "      <td>Mobil3</td>\n",
       "      <td>YES</td>\n",
       "      <td>NaN</td>\n",
       "      <td>353.31</td>\n",
       "      <td>8.0</td>\n",
       "      <td>36.25</td>\n",
       "      <td>4.0</td>\n",
       "      <td>3.6</td>\n",
       "      <td>59.85</td>\n",
       "      <td>2017-02-01</td>\n",
       "    </tr>\n",
       "    <tr>\n",
       "      <th>4</th>\n",
       "      <td>Bursa</td>\n",
       "      <td>NaN</td>\n",
       "      <td>CREDIT CARD</td>\n",
       "      <td>Desktop</td>\n",
       "      <td>YES</td>\n",
       "      <td>@Returning</td>\n",
       "      <td>NaN</td>\n",
       "      <td>6.0</td>\n",
       "      <td>43.16</td>\n",
       "      <td>4.0</td>\n",
       "      <td>4.2</td>\n",
       "      <td>7.82</td>\n",
       "      <td>2013-06-01</td>\n",
       "    </tr>\n",
       "  </tbody>\n",
       "</table>\n",
       "</div>"
      ],
      "text/plain": [
       "         city  category payment_method device_type promotion_used  \\\n",
       "0       Bursa       NaN    Cr3dit C@rd     D3sktop           @Yes   \n",
       "1      Ankara     Toys     Debit Card     Desktop             No    \n",
       "2      Samsun       NaN       E-W@ll3t    Desktop              No   \n",
       "3  Diyarbakır  clothing      @E-Wallet      Mobil3            YES   \n",
       "4       Bursa       NaN    CREDIT CARD    Desktop             YES   \n",
       "\n",
       "  customer_segment  order_value  sold_items  shipping_cost  delivery_time  \\\n",
       "0             @New       477.75        10.0          32.34            6.0   \n",
       "1       @Returning       369.63         4.0          34.56            2.0   \n",
       "2       @Returning       264.94         3.0          24.97            3.0   \n",
       "3              NaN       353.31         8.0          36.25            4.0   \n",
       "4       @Returning          NaN         6.0          43.16            4.0   \n",
       "\n",
       "   product_rating  discount       date  \n",
       "0             4.7    113.97 2020-04-01  \n",
       "1             4.6    103.36 2023-11-01  \n",
       "2             3.4     22.84 2011-05-01  \n",
       "3             3.6     59.85 2017-02-01  \n",
       "4             4.2      7.82 2013-06-01  "
      ]
     },
     "execution_count": 29,
     "metadata": {},
     "output_type": "execute_result"
    }
   ],
   "source": [
    "df.head()"
   ]
  },
  {
   "cell_type": "code",
   "execution_count": 30,
   "id": "7b792dee",
   "metadata": {},
   "outputs": [
    {
     "data": {
      "text/plain": [
       "array([nan, 'Toys ', 'clothing', 'NA ', '@Clothing', 'Clothing', 'Hom3',\n",
       "       'beauty', 'Beauty ', 'TOYS', 'Home ', 'El3ctronics', 'HOME',\n",
       "       'BOOKS', 'B3@uty', '@Toys', 'BEAUTY', 'home', 'ELECTRONICS',\n",
       "       'electronics', 'Electronics ', '@Electronics', 'Toys', 'books',\n",
       "       'Books', 'Clothing ', '@Beauty', '@Home', 'Books ', '@Books',\n",
       "       'CLOTHING', 'toys'], dtype=object)"
      ]
     },
     "execution_count": 30,
     "metadata": {},
     "output_type": "execute_result"
    }
   ],
   "source": [
    "df[\"category\"].unique()"
   ]
  },
  {
   "cell_type": "code",
   "execution_count": 31,
   "id": "1619e375",
   "metadata": {},
   "outputs": [],
   "source": [
    "df['category'] = df['category'].str.strip().str.replace(\"@\",\"\").str.replace(\"3\",\"e\").str.title()\n",
    "df[\"category\"] = df[\"category\"].replace(\"Na\",np.nan)"
   ]
  },
  {
   "cell_type": "code",
   "execution_count": 32,
   "id": "c7eb1ba8",
   "metadata": {},
   "outputs": [
    {
     "data": {
      "text/plain": [
       "array([nan, 'Toys', 'Clothing', 'Home', 'Beauty', 'Electronics', 'Books',\n",
       "       'Beuty'], dtype=object)"
      ]
     },
     "execution_count": 32,
     "metadata": {},
     "output_type": "execute_result"
    }
   ],
   "source": [
    "df[\"category\"].unique()"
   ]
  },
  {
   "cell_type": "code",
   "execution_count": 33,
   "id": "2b35a755",
   "metadata": {},
   "outputs": [],
   "source": [
    "df[\"category\"] = df[\"category\"].replace(\"Beuty\",\"Beauty\")"
   ]
  },
  {
   "cell_type": "code",
   "execution_count": 34,
   "id": "796a0681",
   "metadata": {},
   "outputs": [
    {
     "data": {
      "text/plain": [
       "array([nan, 'Toys', 'Clothing', 'Home', 'Beauty', 'Electronics', 'Books'],\n",
       "      dtype=object)"
      ]
     },
     "execution_count": 34,
     "metadata": {},
     "output_type": "execute_result"
    }
   ],
   "source": [
    "df[\"category\"].unique()"
   ]
  },
  {
   "cell_type": "code",
   "execution_count": 35,
   "id": "68cb8ab3",
   "metadata": {},
   "outputs": [],
   "source": [
    "modeCategory= df[\"category\"].mode()[0]\n",
    "modeCategory #clothing\n",
    "df[\"category\"] = df[\"category\"].fillna(modeCategory)"
   ]
  },
  {
   "cell_type": "code",
   "execution_count": 36,
   "id": "eed1f76c",
   "metadata": {},
   "outputs": [
    {
     "data": {
      "text/plain": [
       "array(['Clothing', 'Toys', 'Home', 'Beauty', 'Electronics', 'Books'],\n",
       "      dtype=object)"
      ]
     },
     "execution_count": 36,
     "metadata": {},
     "output_type": "execute_result"
    }
   ],
   "source": [
    "df[\"category\"].unique()"
   ]
  },
  {
   "cell_type": "code",
   "execution_count": 37,
   "id": "5f073f1a",
   "metadata": {},
   "outputs": [
    {
     "data": {
      "text/plain": [
       "np.int64(0)"
      ]
     },
     "execution_count": 37,
     "metadata": {},
     "output_type": "execute_result"
    }
   ],
   "source": [
    "df[\"category\"].isnull().sum() # 0"
   ]
  },
  {
   "cell_type": "code",
   "execution_count": 38,
   "id": "461879c5",
   "metadata": {},
   "outputs": [
    {
     "data": {
      "text/html": [
       "<div>\n",
       "<style scoped>\n",
       "    .dataframe tbody tr th:only-of-type {\n",
       "        vertical-align: middle;\n",
       "    }\n",
       "\n",
       "    .dataframe tbody tr th {\n",
       "        vertical-align: top;\n",
       "    }\n",
       "\n",
       "    .dataframe thead th {\n",
       "        text-align: right;\n",
       "    }\n",
       "</style>\n",
       "<table border=\"1\" class=\"dataframe\">\n",
       "  <thead>\n",
       "    <tr style=\"text-align: right;\">\n",
       "      <th></th>\n",
       "      <th>city</th>\n",
       "      <th>category</th>\n",
       "      <th>payment_method</th>\n",
       "      <th>device_type</th>\n",
       "      <th>promotion_used</th>\n",
       "      <th>customer_segment</th>\n",
       "      <th>order_value</th>\n",
       "      <th>sold_items</th>\n",
       "      <th>shipping_cost</th>\n",
       "      <th>delivery_time</th>\n",
       "      <th>product_rating</th>\n",
       "      <th>discount</th>\n",
       "      <th>date</th>\n",
       "    </tr>\n",
       "  </thead>\n",
       "  <tbody>\n",
       "    <tr>\n",
       "      <th>0</th>\n",
       "      <td>Bursa</td>\n",
       "      <td>Clothing</td>\n",
       "      <td>Cr3dit C@rd</td>\n",
       "      <td>D3sktop</td>\n",
       "      <td>@Yes</td>\n",
       "      <td>@New</td>\n",
       "      <td>477.75</td>\n",
       "      <td>10.0</td>\n",
       "      <td>32.34</td>\n",
       "      <td>6.0</td>\n",
       "      <td>4.7</td>\n",
       "      <td>113.97</td>\n",
       "      <td>2020-04-01</td>\n",
       "    </tr>\n",
       "    <tr>\n",
       "      <th>1</th>\n",
       "      <td>Ankara</td>\n",
       "      <td>Toys</td>\n",
       "      <td>Debit Card</td>\n",
       "      <td>Desktop</td>\n",
       "      <td>No</td>\n",
       "      <td>@Returning</td>\n",
       "      <td>369.63</td>\n",
       "      <td>4.0</td>\n",
       "      <td>34.56</td>\n",
       "      <td>2.0</td>\n",
       "      <td>4.6</td>\n",
       "      <td>103.36</td>\n",
       "      <td>2023-11-01</td>\n",
       "    </tr>\n",
       "    <tr>\n",
       "      <th>2</th>\n",
       "      <td>Samsun</td>\n",
       "      <td>Clothing</td>\n",
       "      <td>E-W@ll3t</td>\n",
       "      <td>Desktop</td>\n",
       "      <td>No</td>\n",
       "      <td>@Returning</td>\n",
       "      <td>264.94</td>\n",
       "      <td>3.0</td>\n",
       "      <td>24.97</td>\n",
       "      <td>3.0</td>\n",
       "      <td>3.4</td>\n",
       "      <td>22.84</td>\n",
       "      <td>2011-05-01</td>\n",
       "    </tr>\n",
       "    <tr>\n",
       "      <th>3</th>\n",
       "      <td>Diyarbakır</td>\n",
       "      <td>Clothing</td>\n",
       "      <td>@E-Wallet</td>\n",
       "      <td>Mobil3</td>\n",
       "      <td>YES</td>\n",
       "      <td>NaN</td>\n",
       "      <td>353.31</td>\n",
       "      <td>8.0</td>\n",
       "      <td>36.25</td>\n",
       "      <td>4.0</td>\n",
       "      <td>3.6</td>\n",
       "      <td>59.85</td>\n",
       "      <td>2017-02-01</td>\n",
       "    </tr>\n",
       "    <tr>\n",
       "      <th>4</th>\n",
       "      <td>Bursa</td>\n",
       "      <td>Clothing</td>\n",
       "      <td>CREDIT CARD</td>\n",
       "      <td>Desktop</td>\n",
       "      <td>YES</td>\n",
       "      <td>@Returning</td>\n",
       "      <td>NaN</td>\n",
       "      <td>6.0</td>\n",
       "      <td>43.16</td>\n",
       "      <td>4.0</td>\n",
       "      <td>4.2</td>\n",
       "      <td>7.82</td>\n",
       "      <td>2013-06-01</td>\n",
       "    </tr>\n",
       "  </tbody>\n",
       "</table>\n",
       "</div>"
      ],
      "text/plain": [
       "         city  category payment_method device_type promotion_used  \\\n",
       "0       Bursa  Clothing    Cr3dit C@rd     D3sktop           @Yes   \n",
       "1      Ankara      Toys    Debit Card     Desktop             No    \n",
       "2      Samsun  Clothing       E-W@ll3t    Desktop              No   \n",
       "3  Diyarbakır  Clothing      @E-Wallet      Mobil3            YES   \n",
       "4       Bursa  Clothing    CREDIT CARD    Desktop             YES   \n",
       "\n",
       "  customer_segment  order_value  sold_items  shipping_cost  delivery_time  \\\n",
       "0             @New       477.75        10.0          32.34            6.0   \n",
       "1       @Returning       369.63         4.0          34.56            2.0   \n",
       "2       @Returning       264.94         3.0          24.97            3.0   \n",
       "3              NaN       353.31         8.0          36.25            4.0   \n",
       "4       @Returning          NaN         6.0          43.16            4.0   \n",
       "\n",
       "   product_rating  discount       date  \n",
       "0             4.7    113.97 2020-04-01  \n",
       "1             4.6    103.36 2023-11-01  \n",
       "2             3.4     22.84 2011-05-01  \n",
       "3             3.6     59.85 2017-02-01  \n",
       "4             4.2      7.82 2013-06-01  "
      ]
     },
     "execution_count": 38,
     "metadata": {},
     "output_type": "execute_result"
    }
   ],
   "source": [
    "df.head()"
   ]
  },
  {
   "cell_type": "code",
   "execution_count": 39,
   "id": "e9c26f04",
   "metadata": {},
   "outputs": [
    {
     "data": {
      "text/plain": [
       "array(['Cr3dit C@rd', 'Debit Card ', 'E-W@ll3t', '@E-Wallet',\n",
       "       'CREDIT CARD', 'NA ', 'cash on delivery', 'E-Wallet ',\n",
       "       '@Credit Card', nan, 'D3bit C@rd', '@Cash on Delivery',\n",
       "       'Cash on Delivery ', 'DEBIT CARD', 'E-WALLET', '@Debit Card',\n",
       "       'Credit Card ', 'credit card', 'CASH ON DELIVERY', 'debit card',\n",
       "       'e-wallet', 'C@sh on D3liv3ry'], dtype=object)"
      ]
     },
     "execution_count": 39,
     "metadata": {},
     "output_type": "execute_result"
    }
   ],
   "source": [
    "df[\"payment_method\"].unique() "
   ]
  },
  {
   "cell_type": "code",
   "execution_count": 40,
   "id": "976ed5c2",
   "metadata": {},
   "outputs": [],
   "source": [
    "df['payment_method'] = df['payment_method'].str.strip().str.replace(\"@\",\"\").str.replace(\"3\",\"e\").str.title()\n",
    "df[\"payment_method\"] = df[\"payment_method\"].replace(\"Na\",np.nan)"
   ]
  },
  {
   "cell_type": "code",
   "execution_count": 41,
   "id": "bae70e09",
   "metadata": {},
   "outputs": [
    {
     "data": {
      "text/plain": [
       "array(['Credit Crd', 'Debit Card', 'E-Wllet', 'E-Wallet', 'Credit Card',\n",
       "       nan, 'Cash On Delivery', 'Debit Crd', 'Csh On Delivery'],\n",
       "      dtype=object)"
      ]
     },
     "execution_count": 41,
     "metadata": {},
     "output_type": "execute_result"
    }
   ],
   "source": [
    "df['payment_method'].unique()"
   ]
  },
  {
   "cell_type": "code",
   "execution_count": 42,
   "id": "8c750dc5",
   "metadata": {},
   "outputs": [],
   "source": [
    "df['payment_method'] = df['payment_method'].replace({\"Credit Crd\":\"Credit Card\",\n",
    "                                                     \"E-Wllet\":\"E-Wallet\",\n",
    "                                                     \"Csh On Delivery\":\"Cash On Delivery\",\n",
    "                                                     \"Debit Crd\":\"Debit Card\",\n",
    "                                                     })"
   ]
  },
  {
   "cell_type": "code",
   "execution_count": 43,
   "id": "8fec47a3",
   "metadata": {},
   "outputs": [
    {
     "data": {
      "text/plain": [
       "array(['Credit Card', 'Debit Card', 'E-Wallet', nan, 'Cash On Delivery'],\n",
       "      dtype=object)"
      ]
     },
     "execution_count": 43,
     "metadata": {},
     "output_type": "execute_result"
    }
   ],
   "source": [
    "df['payment_method'].unique()"
   ]
  },
  {
   "cell_type": "code",
   "execution_count": 44,
   "id": "9e7bb145",
   "metadata": {},
   "outputs": [],
   "source": [
    "mode_payment_method= df[\"payment_method\"].mode()[0]\n",
    "mode_payment_method #credit card\n",
    "df[\"payment_method\"] = df[\"payment_method\"].fillna(modeCategory)"
   ]
  },
  {
   "cell_type": "code",
   "execution_count": 45,
   "id": "2f81153e",
   "metadata": {},
   "outputs": [
    {
     "data": {
      "text/plain": [
       "np.int64(0)"
      ]
     },
     "execution_count": 45,
     "metadata": {},
     "output_type": "execute_result"
    }
   ],
   "source": [
    "df[\"payment_method\"].isnull().sum() # 0"
   ]
  },
  {
   "cell_type": "code",
   "execution_count": 46,
   "id": "b33e96f7",
   "metadata": {},
   "outputs": [
    {
     "data": {
      "text/html": [
       "<div>\n",
       "<style scoped>\n",
       "    .dataframe tbody tr th:only-of-type {\n",
       "        vertical-align: middle;\n",
       "    }\n",
       "\n",
       "    .dataframe tbody tr th {\n",
       "        vertical-align: top;\n",
       "    }\n",
       "\n",
       "    .dataframe thead th {\n",
       "        text-align: right;\n",
       "    }\n",
       "</style>\n",
       "<table border=\"1\" class=\"dataframe\">\n",
       "  <thead>\n",
       "    <tr style=\"text-align: right;\">\n",
       "      <th></th>\n",
       "      <th>city</th>\n",
       "      <th>category</th>\n",
       "      <th>payment_method</th>\n",
       "      <th>device_type</th>\n",
       "      <th>promotion_used</th>\n",
       "      <th>customer_segment</th>\n",
       "      <th>order_value</th>\n",
       "      <th>sold_items</th>\n",
       "      <th>shipping_cost</th>\n",
       "      <th>delivery_time</th>\n",
       "      <th>product_rating</th>\n",
       "      <th>discount</th>\n",
       "      <th>date</th>\n",
       "    </tr>\n",
       "  </thead>\n",
       "  <tbody>\n",
       "    <tr>\n",
       "      <th>0</th>\n",
       "      <td>Bursa</td>\n",
       "      <td>Clothing</td>\n",
       "      <td>Credit Card</td>\n",
       "      <td>D3sktop</td>\n",
       "      <td>@Yes</td>\n",
       "      <td>@New</td>\n",
       "      <td>477.75</td>\n",
       "      <td>10.0</td>\n",
       "      <td>32.34</td>\n",
       "      <td>6.0</td>\n",
       "      <td>4.7</td>\n",
       "      <td>113.97</td>\n",
       "      <td>2020-04-01</td>\n",
       "    </tr>\n",
       "    <tr>\n",
       "      <th>1</th>\n",
       "      <td>Ankara</td>\n",
       "      <td>Toys</td>\n",
       "      <td>Debit Card</td>\n",
       "      <td>Desktop</td>\n",
       "      <td>No</td>\n",
       "      <td>@Returning</td>\n",
       "      <td>369.63</td>\n",
       "      <td>4.0</td>\n",
       "      <td>34.56</td>\n",
       "      <td>2.0</td>\n",
       "      <td>4.6</td>\n",
       "      <td>103.36</td>\n",
       "      <td>2023-11-01</td>\n",
       "    </tr>\n",
       "    <tr>\n",
       "      <th>2</th>\n",
       "      <td>Samsun</td>\n",
       "      <td>Clothing</td>\n",
       "      <td>E-Wallet</td>\n",
       "      <td>Desktop</td>\n",
       "      <td>No</td>\n",
       "      <td>@Returning</td>\n",
       "      <td>264.94</td>\n",
       "      <td>3.0</td>\n",
       "      <td>24.97</td>\n",
       "      <td>3.0</td>\n",
       "      <td>3.4</td>\n",
       "      <td>22.84</td>\n",
       "      <td>2011-05-01</td>\n",
       "    </tr>\n",
       "    <tr>\n",
       "      <th>3</th>\n",
       "      <td>Diyarbakır</td>\n",
       "      <td>Clothing</td>\n",
       "      <td>E-Wallet</td>\n",
       "      <td>Mobil3</td>\n",
       "      <td>YES</td>\n",
       "      <td>NaN</td>\n",
       "      <td>353.31</td>\n",
       "      <td>8.0</td>\n",
       "      <td>36.25</td>\n",
       "      <td>4.0</td>\n",
       "      <td>3.6</td>\n",
       "      <td>59.85</td>\n",
       "      <td>2017-02-01</td>\n",
       "    </tr>\n",
       "    <tr>\n",
       "      <th>4</th>\n",
       "      <td>Bursa</td>\n",
       "      <td>Clothing</td>\n",
       "      <td>Credit Card</td>\n",
       "      <td>Desktop</td>\n",
       "      <td>YES</td>\n",
       "      <td>@Returning</td>\n",
       "      <td>NaN</td>\n",
       "      <td>6.0</td>\n",
       "      <td>43.16</td>\n",
       "      <td>4.0</td>\n",
       "      <td>4.2</td>\n",
       "      <td>7.82</td>\n",
       "      <td>2013-06-01</td>\n",
       "    </tr>\n",
       "  </tbody>\n",
       "</table>\n",
       "</div>"
      ],
      "text/plain": [
       "         city  category payment_method device_type promotion_used  \\\n",
       "0       Bursa  Clothing    Credit Card     D3sktop           @Yes   \n",
       "1      Ankara      Toys     Debit Card    Desktop             No    \n",
       "2      Samsun  Clothing       E-Wallet    Desktop              No   \n",
       "3  Diyarbakır  Clothing       E-Wallet      Mobil3            YES   \n",
       "4       Bursa  Clothing    Credit Card    Desktop             YES   \n",
       "\n",
       "  customer_segment  order_value  sold_items  shipping_cost  delivery_time  \\\n",
       "0             @New       477.75        10.0          32.34            6.0   \n",
       "1       @Returning       369.63         4.0          34.56            2.0   \n",
       "2       @Returning       264.94         3.0          24.97            3.0   \n",
       "3              NaN       353.31         8.0          36.25            4.0   \n",
       "4       @Returning          NaN         6.0          43.16            4.0   \n",
       "\n",
       "   product_rating  discount       date  \n",
       "0             4.7    113.97 2020-04-01  \n",
       "1             4.6    103.36 2023-11-01  \n",
       "2             3.4     22.84 2011-05-01  \n",
       "3             3.6     59.85 2017-02-01  \n",
       "4             4.2      7.82 2013-06-01  "
      ]
     },
     "execution_count": 46,
     "metadata": {},
     "output_type": "execute_result"
    }
   ],
   "source": [
    "df.head()"
   ]
  },
  {
   "cell_type": "code",
   "execution_count": 47,
   "id": "e9967c60",
   "metadata": {},
   "outputs": [
    {
     "data": {
      "text/plain": [
       "<Axes: >"
      ]
     },
     "execution_count": 47,
     "metadata": {},
     "output_type": "execute_result"
    },
    {
     "data": {
      "image/png": "[encoded data removed]",
      "text/plain": [
       "<Figure size 2500x1000 with 2 Axes>"
      ]
     },
     "metadata": {},
     "output_type": "display_data"
    }
   ],
   "source": [
    "msno.matrix(df, color = (0.5, 0.5, 0.5))"
   ]
  },
  {
   "cell_type": "code",
   "execution_count": 48,
   "id": "77eafcf1",
   "metadata": {},
   "outputs": [
    {
     "data": {
      "text/plain": [
       "array(['D3sktop', 'Desktop ', 'Mobil3', 'desktop', 'Tablet ', 'TABLET',\n",
       "       'tablet', 'Mobile ', nan, 'T@bl3t', 'mobile', 'NA ', 'DESKTOP',\n",
       "       '@Mobile', '@Desktop', '@Tablet', 'MOBILE'], dtype=object)"
      ]
     },
     "execution_count": 48,
     "metadata": {},
     "output_type": "execute_result"
    }
   ],
   "source": [
    "df[\"device_type\"].unique()"
   ]
  },
  {
   "cell_type": "code",
   "execution_count": 49,
   "id": "47a44b52",
   "metadata": {},
   "outputs": [
    {
     "data": {
      "text/plain": [
       "array(['Desktop', 'Mobile', 'Tablet', nan, 'Tblet'], dtype=object)"
      ]
     },
     "execution_count": 49,
     "metadata": {},
     "output_type": "execute_result"
    }
   ],
   "source": [
    "df[\"device_type\"] = df[\"device_type\"].str.strip().str.replace(\"@\",\"\").str.replace(\"3\",\"e\").str.title()\n",
    "df[\"device_type\"] = df[\"device_type\"].replace(\"Na\",np.nan)\n",
    "df[\"device_type\"].unique()"
   ]
  },
  {
   "cell_type": "code",
   "execution_count": 51,
   "id": "30511032",
   "metadata": {},
   "outputs": [],
   "source": [
    "df[\"device_type\"] = df[\"device_type\"].replace(\"Tblet\",\"Tablet\")"
   ]
  },
  {
   "cell_type": "code",
   "execution_count": 52,
   "id": "247af013",
   "metadata": {},
   "outputs": [
    {
     "data": {
      "text/plain": [
       "np.int64(95)"
      ]
     },
     "execution_count": 52,
     "metadata": {},
     "output_type": "execute_result"
    }
   ],
   "source": [
    "df[\"device_type\"].isnull().sum()"
   ]
  },
  {
   "cell_type": "code",
   "execution_count": 56,
   "id": "edbe6eaa",
   "metadata": {},
   "outputs": [],
   "source": [
    "#we have 95 null values and we imputated with mode\n",
    "modeDevice = df[\"device_type\"].mode()[0]\n",
    "modeDevice #Desktop\n",
    "df[\"device_type\"]=df[\"device_type\"].fillna(modeDevice)"
   ]
  },
  {
   "cell_type": "code",
   "execution_count": null,
   "id": "c253f730",
   "metadata": {},
   "outputs": [
    {
     "data": {
      "text/plain": [
       "np.int64(0)"
      ]
     },
     "execution_count": 57,
     "metadata": {},
     "output_type": "execute_result"
    }
   ],
   "source": [
    "df[\"device_type\"].isnull().sum() # 0"
   ]
  },
  {
   "cell_type": "code",
   "execution_count": 60,
   "id": "83e7bd26",
   "metadata": {},
   "outputs": [
    {
     "data": {
      "text/html": [
       "<div>\n",
       "<style scoped>\n",
       "    .dataframe tbody tr th:only-of-type {\n",
       "        vertical-align: middle;\n",
       "    }\n",
       "\n",
       "    .dataframe tbody tr th {\n",
       "        vertical-align: top;\n",
       "    }\n",
       "\n",
       "    .dataframe thead th {\n",
       "        text-align: right;\n",
       "    }\n",
       "</style>\n",
       "<table border=\"1\" class=\"dataframe\">\n",
       "  <thead>\n",
       "    <tr style=\"text-align: right;\">\n",
       "      <th></th>\n",
       "      <th>city</th>\n",
       "      <th>category</th>\n",
       "      <th>payment_method</th>\n",
       "      <th>device_type</th>\n",
       "      <th>promotion_used</th>\n",
       "      <th>customer_segment</th>\n",
       "      <th>order_value</th>\n",
       "      <th>sold_items</th>\n",
       "      <th>shipping_cost</th>\n",
       "      <th>delivery_time</th>\n",
       "      <th>product_rating</th>\n",
       "      <th>discount</th>\n",
       "      <th>date</th>\n",
       "    </tr>\n",
       "  </thead>\n",
       "  <tbody>\n",
       "    <tr>\n",
       "      <th>0</th>\n",
       "      <td>Bursa</td>\n",
       "      <td>Clothing</td>\n",
       "      <td>Credit Card</td>\n",
       "      <td>Desktop</td>\n",
       "      <td>@Yes</td>\n",
       "      <td>@New</td>\n",
       "      <td>477.75</td>\n",
       "      <td>10.0</td>\n",
       "      <td>32.34</td>\n",
       "      <td>6.0</td>\n",
       "      <td>4.7</td>\n",
       "      <td>113.97</td>\n",
       "      <td>2020-04-01</td>\n",
       "    </tr>\n",
       "    <tr>\n",
       "      <th>1</th>\n",
       "      <td>Ankara</td>\n",
       "      <td>Toys</td>\n",
       "      <td>Debit Card</td>\n",
       "      <td>Desktop</td>\n",
       "      <td>No</td>\n",
       "      <td>@Returning</td>\n",
       "      <td>369.63</td>\n",
       "      <td>4.0</td>\n",
       "      <td>34.56</td>\n",
       "      <td>2.0</td>\n",
       "      <td>4.6</td>\n",
       "      <td>103.36</td>\n",
       "      <td>2023-11-01</td>\n",
       "    </tr>\n",
       "    <tr>\n",
       "      <th>2</th>\n",
       "      <td>Samsun</td>\n",
       "      <td>Clothing</td>\n",
       "      <td>E-Wallet</td>\n",
       "      <td>Desktop</td>\n",
       "      <td>No</td>\n",
       "      <td>@Returning</td>\n",
       "      <td>264.94</td>\n",
       "      <td>3.0</td>\n",
       "      <td>24.97</td>\n",
       "      <td>3.0</td>\n",
       "      <td>3.4</td>\n",
       "      <td>22.84</td>\n",
       "      <td>2011-05-01</td>\n",
       "    </tr>\n",
       "    <tr>\n",
       "      <th>3</th>\n",
       "      <td>Diyarbakır</td>\n",
       "      <td>Clothing</td>\n",
       "      <td>E-Wallet</td>\n",
       "      <td>Mobile</td>\n",
       "      <td>YES</td>\n",
       "      <td>NaN</td>\n",
       "      <td>353.31</td>\n",
       "      <td>8.0</td>\n",
       "      <td>36.25</td>\n",
       "      <td>4.0</td>\n",
       "      <td>3.6</td>\n",
       "      <td>59.85</td>\n",
       "      <td>2017-02-01</td>\n",
       "    </tr>\n",
       "    <tr>\n",
       "      <th>4</th>\n",
       "      <td>Bursa</td>\n",
       "      <td>Clothing</td>\n",
       "      <td>Credit Card</td>\n",
       "      <td>Desktop</td>\n",
       "      <td>YES</td>\n",
       "      <td>@Returning</td>\n",
       "      <td>NaN</td>\n",
       "      <td>6.0</td>\n",
       "      <td>43.16</td>\n",
       "      <td>4.0</td>\n",
       "      <td>4.2</td>\n",
       "      <td>7.82</td>\n",
       "      <td>2013-06-01</td>\n",
       "    </tr>\n",
       "  </tbody>\n",
       "</table>\n",
       "</div>"
      ],
      "text/plain": [
       "         city  category payment_method device_type promotion_used  \\\n",
       "0       Bursa  Clothing    Credit Card     Desktop           @Yes   \n",
       "1      Ankara      Toys     Debit Card     Desktop            No    \n",
       "2      Samsun  Clothing       E-Wallet     Desktop             No   \n",
       "3  Diyarbakır  Clothing       E-Wallet      Mobile            YES   \n",
       "4       Bursa  Clothing    Credit Card     Desktop            YES   \n",
       "\n",
       "  customer_segment  order_value  sold_items  shipping_cost  delivery_time  \\\n",
       "0             @New       477.75        10.0          32.34            6.0   \n",
       "1       @Returning       369.63         4.0          34.56            2.0   \n",
       "2       @Returning       264.94         3.0          24.97            3.0   \n",
       "3              NaN       353.31         8.0          36.25            4.0   \n",
       "4       @Returning          NaN         6.0          43.16            4.0   \n",
       "\n",
       "   product_rating  discount       date  \n",
       "0             4.7    113.97 2020-04-01  \n",
       "1             4.6    103.36 2023-11-01  \n",
       "2             3.4     22.84 2011-05-01  \n",
       "3             3.6     59.85 2017-02-01  \n",
       "4             4.2      7.82 2013-06-01  "
      ]
     },
     "execution_count": 60,
     "metadata": {},
     "output_type": "execute_result"
    }
   ],
   "source": [
    "df.head()"
   ]
  },
  {
   "cell_type": "code",
   "execution_count": null,
   "id": "a8bf1c54",
   "metadata": {},
   "outputs": [],
   "source": []
  }
 ],
 "metadata": {
  "kernelspec": {
   "display_name": "Python 3",
   "language": "python",
   "name": "python3"
  },
  "language_info": {
   "codemirror_mode": {
    "name": "ipython",
    "version": 3
   },
   "file_extension": ".py",
   "mimetype": "text/x-python",
   "name": "python",
   "nbconvert_exporter": "python",
   "pygments_lexer": "ipython3",
   "version": "3.12.8"
  }
 },
 "nbformat": 4,
 "nbformat_minor": 5
}
